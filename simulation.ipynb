{
  "nbformat": 4,
  "nbformat_minor": 0,
  "metadata": {
    "colab": {
      "name": "simulation.ipynb",
      "provenance": [],
      "collapsed_sections": [],
      "authorship_tag": "ABX9TyPfc2qpKG+5r+8qehQHGjOk",
      "include_colab_link": true
    },
    "kernelspec": {
      "name": "python3",
      "display_name": "Python 3"
    },
    "language_info": {
      "name": "python"
    }
  },
  "cells": [
    {
      "cell_type": "markdown",
      "metadata": {
        "id": "view-in-github",
        "colab_type": "text"
      },
      "source": [
        "<a href=\"https://colab.research.google.com/github/vineet-codes/defi-exploration/blob/main/simulation.ipynb\" target=\"_parent\"><img src=\"https://colab.research.google.com/assets/colab-badge.svg\" alt=\"Open In Colab\"/></a>"
      ]
    },
    {
      "cell_type": "code",
      "source": [
        "import matplotlib.pyplot as plt\n",
        "import pandas as pd\n",
        "import itertools"
      ],
      "metadata": {
        "id": "X0m3YUcuu12x"
      },
      "execution_count": 1,
      "outputs": []
    },
    {
      "cell_type": "code",
      "source": [
        "def get_usernames():\n",
        "  inputstring = 'ABCDEFGHIJKLMNOPQRSTUVWXYZabscdefghijklmnopqrstuvwxyz0123456789'\n",
        "  # print(len(inputstring))\n",
        "  username_list =list(set([inputstring[x:y] for x, y in itertools.combinations(range(len(inputstring) + 1), r = 2)]))\n",
        "  return username_list\n",
        "\n",
        "len(get_usernames())"
      ],
      "metadata": {
        "colab": {
          "base_uri": "https://localhost:8080/"
        },
        "id": "YbFhpxSkHenk",
        "outputId": "6ae2e0d6-b546-4183-d702-aa5209a8aa3a"
      },
      "execution_count": 2,
      "outputs": [
        {
          "output_type": "execute_result",
          "data": {
            "text/plain": [
              "2015"
            ]
          },
          "metadata": {},
          "execution_count": 2
        }
      ]
    },
    {
      "cell_type": "code",
      "execution_count": 3,
      "metadata": {
        "id": "fue1ZX2FoCIj"
      },
      "outputs": [],
      "source": [
        "class Vault:\n",
        "\n",
        "  def __init__(self):\n",
        "    # pool is of the form {user: [(amount_1, tick_1), (amount_2, tick_2)]}\n",
        "    self.pool = {}\n",
        "    # self.rewards_pool = rewards_pool\n",
        "    # tick is used for having a contcept of time in our analysis\n",
        "    self.tick = 0\n",
        "\n",
        "  def update_tick(self, step):\n",
        "    self.tick += step\n",
        "\n",
        "  def balanceOf(self, user):\n",
        "    user_txns = self.pool.get(user,[])\n",
        "    if(len(user_txns) == 0):\n",
        "      return 0 #f'It seems {user} has made no txns in to the Vault'\n",
        "    return sum([amount for (amount, _) in user_txns])\n",
        "    \n",
        "\n",
        "  def shareOfUser(self, user):\n",
        "    \"\"\"\n",
        "    return: users shares of the total pool\n",
        "    \"\"\"\n",
        "    return self.balanceOf(user) / self.tvl()\n",
        "\n",
        "  def deposit(self, amount, user):\n",
        "    \"\"\"\n",
        "    return: tuple (user, updated balance)\n",
        "    \"\"\"\n",
        "    if (user in self.pool.keys()):\n",
        "      user_txns = self.pool.get(user, []) \n",
        "      user_txns.append((amount, self.tick))\n",
        "      self.pool[user] = user_txns\n",
        "    else:\n",
        "      self.pool[user] = [(amount, self.tick)]\n",
        "    return user, self.pool[user]\n",
        "\n",
        "  def withdraw(self, withdraw_amount, user):\n",
        "    \"\"\"\n",
        "    return: tuple (user, updated balance)\n",
        "    \"\"\"\n",
        "    if(user not in self.pool.keys()):\n",
        "      return f'{user} has not deposited in the vault'\n",
        "    \n",
        "    if(self.balanceOf(user) < withdraw_amount):\n",
        "      return f'Not enough balance, {user} can one withdraw upto: {self.balanceOf(user)}'\n",
        "    \n",
        "    # db update\n",
        "    # self.pool[user] = self.pool[user] - withdraw_amount\n",
        "    self.pool[user].append((-1* withdraw_amount, self.tick))\n",
        "\n",
        "    return user,self.balanceOf(user)\n",
        "\n",
        "  def tvl(self):\n",
        "    result = 0\n",
        "    for user, txns in self.pool.items():\n",
        "      user_balance = self.balanceOf(user)\n",
        "      result += user_balance\n",
        "    return result\n",
        "      \n",
        "    return sum([v for _,v in self.pool.items()])\n",
        "  \n",
        "  def get_pool(self):\n",
        "    return self.pool\n",
        "\n",
        "\n",
        "\n",
        "class Stakes:\n",
        "\n",
        "  def __init__(self):\n",
        "    self.pool = {}\n",
        "    # self.rewards_pool = rewards_pool\n",
        "    self.tick = 0\n",
        "\n",
        "  def update_tick(self, step):\n",
        "    self.tick += step\n",
        "\n",
        "  def stake(self, user, amount, duration):\n",
        "    \"\"\"\n",
        "    duratrion: in months\n",
        "    \"\"\"\n",
        "    # assert self.tick == tick\n",
        "\n",
        "    user_stakes = self.pool.get(user, [])\n",
        "    # print(user_stakes)\n",
        "    user_stakes.append((amount, duration, self.tick))\n",
        "    self.pool[user] = user_stakes\n",
        "    # self.rewards_pool.tick()\n",
        "    return user, self.pool.get(user, [])\n",
        "\n",
        "  def unstake(self):\n",
        "    pass\n",
        "\n",
        "\n",
        "  def get_pool(self):\n",
        "    return self.pool\n",
        "\n",
        "  def pool_size(self):\n",
        "    return sum([amount*duration for user in self.pool.keys() for amount, duration, _ in self.pool[user]])\n",
        "\n",
        "  def shareOfUser(self, user):\n",
        "    totalPoolSize = self.pool_size()\n",
        "    if(totalPoolSize == 0):\n",
        "      return 0\n",
        "    userPoolSize = sum([amount*duration for amount, duration, _ in self.pool.get(user, [(0,0,0)])])\n",
        "    return userPoolSize / totalPoolSize\n",
        "\n",
        "\n",
        "\n",
        "class Rewards:\n",
        "\n",
        "  def __init__(self, vault, stakes, \n",
        "               weights=[0.2,0.8], \n",
        "               vault_stake_reward_split = [0.75, 0.25], \n",
        "               yearly_emissions = 3891931,\n",
        "               yop_token_price = 1):\n",
        "    \n",
        "    self.tick = 0\n",
        "    \n",
        "    self.yearly_emissions = yearly_emissions\n",
        "\n",
        "    self.vault = vault\n",
        "    self.stakes = stakes\n",
        "\n",
        "    self.weights = weights\n",
        "    self.vault_stake_reward_split = vault_stake_reward_split\n",
        "    self.yop_token_price = yop_token_price\n",
        "\n",
        "    # list to store history state per tick\n",
        "    self.reward_per_tick_history = []\n",
        "\n",
        "  \n",
        "  def update_tick(self, step):\n",
        "    self.tick += step\n",
        "\n",
        "\n",
        "  def calculate_rewards(self):\n",
        "\n",
        "    result = {}\n",
        "    \n",
        "    total_power = 0\n",
        "    for user in list(set(self.vault.pool.keys())):\n",
        "      vault_boost_multiplier = self.weights[0]*self.vault.shareOfUser(user) + self.weights[1]*self.stakes.shareOfUser(user)\n",
        "      total_power += vault_boost_multiplier * self.vault.balanceOf(user)\n",
        "\n",
        "    # print(total_power)\n",
        "\n",
        "    for user in list(set(self.vault.pool.keys())):\n",
        "      # print(\"=========\")\n",
        "      vault_boost_multiplier = self.weights[0]*self.vault.shareOfUser(user) + self.weights[1]*self.stakes.shareOfUser(user)\n",
        "      # print(f'{user} vault boost multiplier is: {vault_boost_multiplier}')\n",
        "      # x = (vault_boost_multiplier * self.vault.balanceOf(user) / total_power) * ((self.vault_stake_reward_split[0]/4)*self.yearly_emissions) * (self.yop_token_price)\n",
        "      x = ((vault_boost_multiplier * self.vault.balanceOf(user)) / total_power) * ((0.2)*self.yearly_emissions) * (self.yop_token_price)\n",
        "      # print(f\"{user} is getting {(x / self.vault.balanceOf(user))*100}% APY in the vault\")\n",
        "      result[user] = (x / self.vault.balanceOf(user))*100\n",
        "    return result\n",
        " \n",
        "    \n",
        "  \n",
        "  def tick_fn(self, step):\n",
        "\n",
        "    self.update_tick(step)\n",
        "    self.vault.update_tick(step)\n",
        "    self.stakes.update_tick(step)\n",
        "\n",
        "    state = {}\n",
        "\n",
        "    # print(f\"===Tick: {self.tick}====\")\n",
        "    # print(self.calculate_rewards())\n",
        "    # print(\"Vault pool\",self.vault.pool)\n",
        "    # print(\"Stake Pool\", self.stakes.pool)\n",
        "\n",
        "    state['apys'] = self.calculate_rewards()\n",
        "    state['vault_pool'] = self.vault.pool.copy()\n",
        "    state['stake_pool'] = self.stakes.pool.copy()\n",
        "\n",
        "    self.reward_per_tick_history.append(state)\n",
        "    # print(\"========\")\n",
        "\n",
        "    \n",
        "    \n",
        "      \n",
        "\n",
        "  \n",
        "\n",
        "\n",
        "# v = Vault()\n",
        "# print(v.tvl())\n",
        "# print(v.balanceOf('dfg'))\n",
        "# v.deposit(5000, 'e')\n",
        "# print(v.tvl())\n",
        "\n",
        "class User:\n",
        "\n",
        "  def __init__(self, name):\n",
        "    self.name = name\n",
        "\n",
        "  def __repr__(self):\n",
        "    return f'{self.name}'\n",
        "\n",
        "  def vault_rewards(self):\n",
        "    pass\n",
        "\n",
        "  def stake_rewards(self):\n",
        "    pass"
      ]
    },
    {
      "cell_type": "code",
      "source": [
        "usdc_vault = Vault()\n",
        "yop_stakes = Stakes()\n",
        "vineet = User(\"Vineet\")\n",
        "john = User(\"John\")\n",
        "anar = User(\"Anar\")\n",
        "\n",
        "reward_calculator = Rewards(usdc_vault, yop_stakes)\n",
        "\n",
        "reward_calculator.tick_fn(1)\n",
        "\n",
        "# users make deposit into vault\n",
        "usdc_vault.deposit(50_000, vineet)\n",
        "# yop_stakes.stake(john, 5000, 12)\n",
        "\n",
        "\n",
        "reward_calculator.tick_fn(1)\n",
        "\n",
        "usdc_vault.deposit(50_000, vineet)\n",
        "\n",
        "reward_calculator.tick_fn(1)\n",
        "\n",
        "usdc_vault.deposit(60_000, john)\n",
        "\n",
        "# users stake some yop\n",
        "yop_stakes.stake(vineet, 5000, 12)\n",
        "reward_calculator.tick_fn(1)\n",
        "\n",
        "yop_stakes.stake(vineet, 5000, 12)\n",
        "reward_calculator.tick_fn(1)\n",
        "\n",
        "\n",
        "reward_calculator.tick_fn(1)"
      ],
      "metadata": {
        "id": "3p5Eop74DpOP"
      },
      "execution_count": 4,
      "outputs": []
    },
    {
      "cell_type": "code",
      "source": [
        "usdc_vault.pool, usdc_vault.balanceOf(anar)"
      ],
      "metadata": {
        "colab": {
          "base_uri": "https://localhost:8080/"
        },
        "id": "_35dk24cMjPa",
        "outputId": "32a5bb0c-ad16-4a26-aae4-88a8f468cba3"
      },
      "execution_count": 5,
      "outputs": [
        {
          "output_type": "execute_result",
          "data": {
            "text/plain": [
              "({John: [(60000, 3)], Vineet: [(50000, 1), (50000, 2)]}, 0)"
            ]
          },
          "metadata": {},
          "execution_count": 5
        }
      ]
    },
    {
      "cell_type": "code",
      "source": [
        "usdc_vault.shareOfUser(vineet) + usdc_vault.shareOfUser(john) == 1"
      ],
      "metadata": {
        "id": "EGNrGKIHMjKH",
        "colab": {
          "base_uri": "https://localhost:8080/"
        },
        "outputId": "e1b8f141-e238-41b5-e14c-47b66eb10d95"
      },
      "execution_count": 6,
      "outputs": [
        {
          "output_type": "execute_result",
          "data": {
            "text/plain": [
              "True"
            ]
          },
          "metadata": {},
          "execution_count": 6
        }
      ]
    },
    {
      "cell_type": "code",
      "source": [
        "usdc_vault.withdraw(100000, vineet), usdc_vault.balanceOf(vineet), usdc_vault.tvl(), yop_stakes.get_pool()"
      ],
      "metadata": {
        "colab": {
          "base_uri": "https://localhost:8080/"
        },
        "id": "WUu5ltSsDoht",
        "outputId": "b5d1e653-d924-49c9-9917-50a3a1046b9a"
      },
      "execution_count": 7,
      "outputs": [
        {
          "output_type": "execute_result",
          "data": {
            "text/plain": [
              "((Vineet, 0), 0, 60000, {Vineet: [(5000, 12, 3), (5000, 12, 4)]})"
            ]
          },
          "metadata": {},
          "execution_count": 7
        }
      ]
    },
    {
      "cell_type": "code",
      "source": [
        ""
      ],
      "metadata": {
        "id": "-N1OdLEfhAJp"
      },
      "execution_count": 7,
      "outputs": []
    },
    {
      "cell_type": "code",
      "source": [
        ""
      ],
      "metadata": {
        "id": "u824VMRFFLj7"
      },
      "execution_count": 7,
      "outputs": []
    },
    {
      "cell_type": "code",
      "source": [
        "def simultaion_setup(steps = 100):\n",
        "\n",
        "  # create vault and stake pool\n",
        "  usdc_vault = Vault()\n",
        "  yop_stakes = Stakes()\n",
        "  rewards = Rewards(usdc_vault, yop_stakes)\n",
        "\n",
        "  # create users\n",
        "  vineet, john, anar = User(\"Vineet\"), User(\"John\"), User(\"Anar\")\n",
        "\n",
        "  # make some txns in vaults and stakes in some ticks\n",
        "  # tick\n",
        "  rewards.tick_fn(1)\n",
        "\n",
        "  # users make deposit into vault\n",
        "  usdc_vault.deposit(670_000, vineet)\n",
        "  yop_stakes.stake(john, 100_000, 5)\n",
        "\n",
        "  #tick \n",
        "  rewards.tick_fn(1)\n",
        "  \n",
        "  usdc_vault.deposit(2_000_000, john)\n",
        "\n",
        "  # users stake some yop\n",
        "  # yop_stakes.stake(vineet, 5000, 12)\n",
        "  rewards.tick_fn(1)\n",
        "\n",
        "  usdc_vault.deposit(5000, anar)\n",
        "\n",
        "  yop_stakes.stake(anar, 50000, 5)\n",
        "  rewards.tick_fn(1)\n",
        "\n",
        "  # yop_stakes.stake(anar, 5000, 12)\n",
        "  rewards.tick_fn(1)\n",
        "\n",
        "\n",
        "\n",
        "  return rewards, usdc_vault, yop_stakes, [vineet, john, anar]"
      ],
      "metadata": {
        "id": "JoNpzgzkFLhQ"
      },
      "execution_count": 8,
      "outputs": []
    },
    {
      "cell_type": "code",
      "source": [
        "rewards, usdc_vault, yop_stakes, [vineet, john, anar] = simultaion_setup()"
      ],
      "metadata": {
        "id": "qAoqY8BhFLeo"
      },
      "execution_count": 9,
      "outputs": []
    },
    {
      "cell_type": "code",
      "source": [
        "usdc_vault.pool, yop_stakes.pool, rewards.tick, rewards.calculate_rewards()"
      ],
      "metadata": {
        "id": "9NDehVTzFLb5",
        "colab": {
          "base_uri": "https://localhost:8080/"
        },
        "outputId": "85711fe4-b899-4ce9-fa9a-a98547f47cbf"
      },
      "execution_count": 10,
      "outputs": [
        {
          "output_type": "execute_result",
          "data": {
            "text/plain": [
              "({Anar: [(5000, 3)], John: [(2000000, 2)], Vineet: [(670000, 1)]},\n",
              " {Anar: [(50000, 5, 3)], John: [(100000, 5, 1)]},\n",
              " 5,\n",
              " {Anar: 14.840511248388022, John: 37.9496041256026, Vineet: 2.78389431724311})"
            ]
          },
          "metadata": {},
          "execution_count": 10
        }
      ]
    },
    {
      "cell_type": "code",
      "source": [
        "rewards.reward_per_tick_history"
      ],
      "metadata": {
        "colab": {
          "base_uri": "https://localhost:8080/"
        },
        "id": "WlrsMdMBMlRS",
        "outputId": "0a514218-d0da-487e-f762-800d45cf2006"
      },
      "execution_count": 11,
      "outputs": [
        {
          "output_type": "execute_result",
          "data": {
            "text/plain": [
              "[{'apys': {}, 'stake_pool': {}, 'vault_pool': {}},\n",
              " {'apys': {Vineet: 116.1770447761194},\n",
              "  'stake_pool': {John: [(100000, 5, 1)]},\n",
              "  'vault_pool': {Vineet: [(670000, 1)]}},\n",
              " {'apys': {John: 38.24237769141653, Vineet: 2.0206934584581293},\n",
              "  'stake_pool': {John: [(100000, 5, 1)]},\n",
              "  'vault_pool': {John: [(2000000, 2)], Vineet: [(670000, 1)]}},\n",
              " {'apys': {Anar: 14.840511248388022,\n",
              "   John: 37.9496041256026,\n",
              "   Vineet: 2.78389431724311},\n",
              "  'stake_pool': {Anar: [(50000, 5, 3)], John: [(100000, 5, 1)]},\n",
              "  'vault_pool': {Anar: [(5000, 3)],\n",
              "   John: [(2000000, 2)],\n",
              "   Vineet: [(670000, 1)]}},\n",
              " {'apys': {Anar: 14.840511248388022,\n",
              "   John: 37.9496041256026,\n",
              "   Vineet: 2.78389431724311},\n",
              "  'stake_pool': {Anar: [(50000, 5, 3)], John: [(100000, 5, 1)]},\n",
              "  'vault_pool': {Anar: [(5000, 3)],\n",
              "   John: [(2000000, 2)],\n",
              "   Vineet: [(670000, 1)]}}]"
            ]
          },
          "metadata": {},
          "execution_count": 11
        }
      ]
    },
    {
      "cell_type": "code",
      "source": [
        ""
      ],
      "metadata": {
        "id": "lZ_gNva0MlOB"
      },
      "execution_count": 11,
      "outputs": []
    },
    {
      "cell_type": "code",
      "source": [
        ""
      ],
      "metadata": {
        "id": "Gfx9Ev41smri"
      },
      "execution_count": 11,
      "outputs": []
    },
    {
      "cell_type": "code",
      "source": [
        ""
      ],
      "metadata": {
        "id": "Ue3ljqtksmoY"
      },
      "execution_count": 11,
      "outputs": []
    },
    {
      "cell_type": "code",
      "source": [
        "common_users = list(set(rewards.vault.pool.keys()).intersection(set(rewards.stakes.pool.keys())))"
      ],
      "metadata": {
        "id": "SvFCZxKTFLWq"
      },
      "execution_count": 12,
      "outputs": []
    },
    {
      "cell_type": "code",
      "source": [
        "common_users"
      ],
      "metadata": {
        "id": "AdoUh23aFLTa",
        "colab": {
          "base_uri": "https://localhost:8080/"
        },
        "outputId": "9db46734-4e86-4415-c489-607f36a1abbf"
      },
      "execution_count": 13,
      "outputs": [
        {
          "output_type": "execute_result",
          "data": {
            "text/plain": [
              "[Anar, John]"
            ]
          },
          "metadata": {},
          "execution_count": 13
        }
      ]
    },
    {
      "cell_type": "code",
      "source": [
        ""
      ],
      "metadata": {
        "id": "9rX5hBOCjnv-"
      },
      "execution_count": null,
      "outputs": []
    },
    {
      "cell_type": "code",
      "source": [
        ""
      ],
      "metadata": {
        "id": "bhTWNvxUjns9"
      },
      "execution_count": null,
      "outputs": []
    },
    {
      "cell_type": "code",
      "source": [
        ""
      ],
      "metadata": {
        "id": "NJE_z2o3jnqK"
      },
      "execution_count": null,
      "outputs": []
    },
    {
      "cell_type": "code",
      "source": [
        ""
      ],
      "metadata": {
        "id": "mjq-LAPkjnnO"
      },
      "execution_count": null,
      "outputs": []
    },
    {
      "cell_type": "code",
      "source": [
        " "
      ],
      "metadata": {
        "id": "epqytokUFLMV"
      },
      "execution_count": 79,
      "outputs": []
    },
    {
      "cell_type": "code",
      "source": [
        ""
      ],
      "metadata": {
        "id": "ubXrHAbIstBI"
      },
      "execution_count": 79,
      "outputs": []
    }
  ]
}