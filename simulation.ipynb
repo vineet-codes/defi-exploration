{
  "nbformat": 4,
  "nbformat_minor": 0,
  "metadata": {
    "colab": {
      "name": "simulation.ipynb",
      "provenance": [],
      "collapsed_sections": [],
      "authorship_tag": "ABX9TyPvtTvRuqAroThaK1O/SU46",
      "include_colab_link": true
    },
    "kernelspec": {
      "name": "python3",
      "display_name": "Python 3"
    },
    "language_info": {
      "name": "python"
    }
  },
  "cells": [
    {
      "cell_type": "markdown",
      "metadata": {
        "id": "view-in-github",
        "colab_type": "text"
      },
      "source": [
        "<a href=\"https://colab.research.google.com/github/vineet-codes/defi-exploration/blob/main/simulation.ipynb\" target=\"_parent\"><img src=\"https://colab.research.google.com/assets/colab-badge.svg\" alt=\"Open In Colab\"/></a>"
      ]
    },
    {
      "cell_type": "code",
      "source": [
        "import matplotlib.pyplot as plt\n",
        "import pandas as pd\n",
        "import itertools"
      ],
      "metadata": {
        "id": "X0m3YUcuu12x"
      },
      "execution_count": 1,
      "outputs": []
    },
    {
      "cell_type": "code",
      "source": [
        "def get_usernames(r=2):\n",
        "  inputstring = 'ABCDEFGHIJKLMNOPQRSTUVWXYZabscdefghijklmnopqrstuvwxyz0123456789'\n",
        "  # print(len(inputstring))\n",
        "  username_list =list(set([inputstring[x:y] for x, y in itertools.combinations(range(len(inputstring) + 1), r = r)]))\n",
        "  return username_list\n",
        "\n",
        "len(get_usernames())"
      ],
      "metadata": {
        "colab": {
          "base_uri": "https://localhost:8080/"
        },
        "id": "YbFhpxSkHenk",
        "outputId": "58735250-c2b6-44c7-c028-8ea6b0bf38d0"
      },
      "execution_count": 2,
      "outputs": [
        {
          "output_type": "execute_result",
          "data": {
            "text/plain": [
              "2015"
            ]
          },
          "metadata": {},
          "execution_count": 2
        }
      ]
    },
    {
      "cell_type": "markdown",
      "source": [
        "Questions: \n",
        "\n",
        "1. How does unstake work [user has to claim it ?]"
      ],
      "metadata": {
        "id": "8Ao1o7qBgjms"
      }
    },
    {
      "cell_type": "code",
      "execution_count": 3,
      "metadata": {
        "id": "fue1ZX2FoCIj"
      },
      "outputs": [],
      "source": [
        "class Vault:\n",
        "\n",
        "  def __init__(self, name):\n",
        "    # pool is of the form {user: [(amount_1, tick_1), (amount_2, tick_2)]}\n",
        "    self.pool = {}\n",
        "\n",
        "    self.name = name\n",
        "    # self.rewards_pool = rewards_pool\n",
        "    # tick is used for having a contcept of time in our analysis\n",
        "    self.tick = 0\n",
        "\n",
        "  def update_tick(self, step):\n",
        "    self.tick += step\n",
        "\n",
        "  def balanceOf(self, user):\n",
        "    user_txns = self.pool.get(user,[])\n",
        "    if(len(user_txns) == 0):\n",
        "      return 0 #f'It seems {user} has made no txns in to the Vault'\n",
        "    return sum([amount for (amount, _) in user_txns])\n",
        "    \n",
        "\n",
        "  def shareOfUser(self, user):\n",
        "    \"\"\"\n",
        "    return: users shares of the total pool\n",
        "    \"\"\"\n",
        "    return self.balanceOf(user) / self.tvl()\n",
        "\n",
        "  def deposit(self, amount, user):\n",
        "    \"\"\"\n",
        "    return: tuple (user, updated balance)\n",
        "    \"\"\"\n",
        "    if (user in self.pool.keys()):\n",
        "      user_txns = self.pool.get(user, []) \n",
        "      user_txns.append((amount, self.tick))\n",
        "      self.pool[user] = user_txns\n",
        "    else:\n",
        "      self.pool[user] = [(amount, self.tick)]\n",
        "    return user, self.pool[user]\n",
        "\n",
        "  def withdraw(self, withdraw_amount, user):\n",
        "    \"\"\"\n",
        "    return: tuple (user, updated balance)\n",
        "    \"\"\"\n",
        "    if(user not in self.pool.keys()):\n",
        "      return f'{user} has not deposited in the vault'\n",
        "    \n",
        "    if(self.balanceOf(user) < withdraw_amount):\n",
        "      return f'Not enough balance, {user} can one withdraw upto: {self.balanceOf(user)}'\n",
        "    \n",
        "    # db update\n",
        "    # self.pool[user] = self.pool[user] - withdraw_amount\n",
        "    self.pool[user].append((-1* withdraw_amount, self.tick))\n",
        "\n",
        "    return user,self.balanceOf(user)\n",
        "\n",
        "  def tvl(self):\n",
        "    result = 0\n",
        "    for user, txns in self.pool.items():\n",
        "      user_balance = self.balanceOf(user)\n",
        "      result += user_balance\n",
        "    return result\n",
        "      \n",
        "    return sum([v for _,v in self.pool.items()])\n",
        "  \n",
        "  def get_pool(self):\n",
        "    return self.pool\n",
        "\n",
        "\n",
        "\n",
        "class Stakes:\n",
        "\n",
        "  def __init__(self, name=\"YOP_LOCKBOX\"):\n",
        "\n",
        "    # pool is of the form {user: [(amount_1, duration_1, tick_1), (amount_2, duration_2, tick_2), (amount_1, duration_1, tick_2)]}\n",
        "    self.pool = {}\n",
        "\n",
        "    self.name = name\n",
        "    # self.rewards_pool = rewards_pool\n",
        "    # tick helps with time travel\n",
        "    self.tick = 0\n",
        "\n",
        "  def update_tick(self, step):\n",
        "    self.tick += step\n",
        "\n",
        "  def stake(self, user, amount, duration):\n",
        "    \"\"\"\n",
        "    duratrion: in months\n",
        "    \"\"\"\n",
        "    # assert self.tick == tick\n",
        "\n",
        "    user_stakes = self.pool.get(user, [])\n",
        "    # print(user_stakes)\n",
        "    user_stakes.append((amount, duration, self.tick))\n",
        "    self.pool[user] = user_stakes\n",
        "    # self.rewards_pool.tick()\n",
        "    return user, self.pool.get(user, [])\n",
        "\n",
        "  def unstake(self):\n",
        "    pass\n",
        "\n",
        "\n",
        "  def get_pool(self):\n",
        "    return self.pool\n",
        "\n",
        "  def pool_size(self):\n",
        "    return sum([amount*duration for user in self.pool.keys() for amount, duration, _ in self.pool[user]])\n",
        "\n",
        "  def shareOfUser(self, user):\n",
        "    totalPoolSize = self.pool_size()\n",
        "    if(totalPoolSize == 0):\n",
        "      return 0\n",
        "    userPoolSize = sum([amount*duration for amount, duration, _ in self.pool.get(user, [(0,0,0)])])\n",
        "    return userPoolSize / totalPoolSize\n",
        "\n",
        "\n",
        "\n",
        "class Rewards:\n",
        "\n",
        "  def __init__(self, vault, stakes, \n",
        "               weights=[0.2,0.8], \n",
        "               vault_stake_reward_split = [0.75, 0.25], \n",
        "               yearly_emissions = 3891931,\n",
        "               yop_token_price = 1):\n",
        "    \n",
        "    self.tick = 0\n",
        "    \n",
        "    self.yearly_emissions = yearly_emissions\n",
        "\n",
        "    self.vault = vault\n",
        "    self.stakes = stakes\n",
        "\n",
        "    self.weights = weights\n",
        "    self.vault_stake_reward_split = vault_stake_reward_split\n",
        "    self.yop_token_price = yop_token_price\n",
        "\n",
        "    # list to store history state per tick\n",
        "    self.reward_per_tick_history = []\n",
        "\n",
        "  \n",
        "  def update_tick(self, step):\n",
        "    self.tick += step\n",
        "\n",
        "\n",
        "  def calculate_rewards(self):\n",
        "\n",
        "    result = {}\n",
        "    \n",
        "    total_power = 0\n",
        "    for user in list(set(self.vault.pool.keys())):\n",
        "      vault_boost_multiplier = self.weights[0]*self.vault.shareOfUser(user) + self.weights[1]*self.stakes.shareOfUser(user)\n",
        "      total_power += vault_boost_multiplier * self.vault.balanceOf(user)\n",
        "\n",
        "    # print(total_power)\n",
        "\n",
        "    for user in list(set(self.vault.pool.keys())):\n",
        "      # print(\"=========\")\n",
        "      vault_boost_multiplier = self.weights[0]*self.vault.shareOfUser(user) + self.weights[1]*self.stakes.shareOfUser(user)\n",
        "      # print(f'{user} vault boost multiplier is: {vault_boost_multiplier}')\n",
        "      # x = (vault_boost_multiplier * self.vault.balanceOf(user) / total_power) * ((self.vault_stake_reward_split[0]/4)*self.yearly_emissions) * (self.yop_token_price)\n",
        "      x = ((vault_boost_multiplier * self.vault.balanceOf(user)) / total_power) * ((0.2)*self.yearly_emissions) * (self.yop_token_price)\n",
        "      # print(f\"{user} is getting {(x / self.vault.balanceOf(user))*100}% APY in the vault\")\n",
        "      result[user] = (x / self.vault.balanceOf(user))*100\n",
        "    return result\n",
        " \n",
        "    \n",
        "  \n",
        "  def tick_fn(self, step):\n",
        "\n",
        "\n",
        "    # update clocks for everyone\n",
        "    self.update_tick(step)\n",
        "    self.vault.update_tick(step)\n",
        "    self.stakes.update_tick(step)\n",
        "\n",
        "    # TODO: calculate the rewards earned in this tick\n",
        "\n",
        "    # TODO: unstake and calculate stake rewards to be persisted\n",
        "\n",
        "    # calculate the current vault reward state to be persisted\n",
        "    state = {}\n",
        "\n",
        "    # print(f\"===Tick: {self.tick}====\")\n",
        "    # print(self.calculate_rewards())\n",
        "    # print(\"Vault pool\",self.vault.pool)\n",
        "    # print(\"Stake Pool\", self.stakes.pool)\n",
        "\n",
        "    state[f'apys_{self.tick}'] = self.calculate_rewards()\n",
        "    state['vault_pool'] = self.vault.pool.copy()\n",
        "    state['stake_pool'] = self.stakes.pool.copy()\n",
        "\n",
        "    self.reward_per_tick_history.append(state)\n",
        "    # print(\"========\")\n",
        "\n",
        "    \n",
        "    \n",
        "      \n",
        "\n",
        "  \n",
        "\n",
        "\n",
        "# v = Vault()\n",
        "# print(v.tvl())\n",
        "# print(v.balanceOf('dfg'))\n",
        "# v.deposit(5000, 'e')\n",
        "# print(v.tvl())\n",
        "\n",
        "class User:\n",
        "\n",
        "  def __init__(self, name):\n",
        "    self.name = name\n",
        "\n",
        "  def __repr__(self):\n",
        "    return f'{self.name}'\n",
        "\n",
        "  def vault_rewards(self):\n",
        "    pass\n",
        "\n",
        "  def stake_rewards(self):\n",
        "    pass"
      ]
    },
    {
      "cell_type": "code",
      "source": [
        "usdc_vault = Vault('test')\n",
        "yop_stakes = Stakes()\n",
        "vineet = User(\"Vineet\")\n",
        "john = User(\"John\")\n",
        "anar = User(\"Anar\")\n",
        "\n",
        "reward_calculator = Rewards(usdc_vault, yop_stakes)\n",
        "\n",
        "reward_calculator.tick_fn(1)\n",
        "\n",
        "# users make deposit into vault\n",
        "usdc_vault.deposit(50_000, vineet)\n",
        "# yop_stakes.stake(john, 5000, 12)\n",
        "\n",
        "\n",
        "reward_calculator.tick_fn(1)\n",
        "\n",
        "usdc_vault.deposit(50_000, vineet)\n",
        "\n",
        "reward_calculator.tick_fn(1)\n",
        "\n",
        "usdc_vault.deposit(60_000, john)\n",
        "\n",
        "# users stake some yop\n",
        "yop_stakes.stake(vineet, 5000, 12)\n",
        "reward_calculator.tick_fn(1)\n",
        "\n",
        "yop_stakes.stake(vineet, 5000, 12)\n",
        "reward_calculator.tick_fn(1)\n",
        "\n",
        "\n",
        "reward_calculator.tick_fn(1)"
      ],
      "metadata": {
        "id": "3p5Eop74DpOP"
      },
      "execution_count": 4,
      "outputs": []
    },
    {
      "cell_type": "code",
      "source": [
        "usdc_vault.pool, usdc_vault.balanceOf(anar)"
      ],
      "metadata": {
        "colab": {
          "base_uri": "https://localhost:8080/"
        },
        "id": "_35dk24cMjPa",
        "outputId": "1abfd72e-e546-497d-b851-950a7c14616a"
      },
      "execution_count": 5,
      "outputs": [
        {
          "output_type": "execute_result",
          "data": {
            "text/plain": [
              "({John: [(60000, 3)], Vineet: [(50000, 1), (50000, 2)]}, 0)"
            ]
          },
          "metadata": {},
          "execution_count": 5
        }
      ]
    },
    {
      "cell_type": "code",
      "source": [
        "usdc_vault.shareOfUser(vineet) + usdc_vault.shareOfUser(john) == 1"
      ],
      "metadata": {
        "id": "EGNrGKIHMjKH",
        "colab": {
          "base_uri": "https://localhost:8080/"
        },
        "outputId": "933175ee-27f2-4680-cc0c-5eacf9b43111"
      },
      "execution_count": 6,
      "outputs": [
        {
          "output_type": "execute_result",
          "data": {
            "text/plain": [
              "True"
            ]
          },
          "metadata": {},
          "execution_count": 6
        }
      ]
    },
    {
      "cell_type": "code",
      "source": [
        "usdc_vault.withdraw(100000, vineet), usdc_vault.balanceOf(vineet), usdc_vault.tvl(), yop_stakes.get_pool()"
      ],
      "metadata": {
        "colab": {
          "base_uri": "https://localhost:8080/"
        },
        "id": "WUu5ltSsDoht",
        "outputId": "0910dd2d-89a6-4f5c-9308-c63004c72268"
      },
      "execution_count": 7,
      "outputs": [
        {
          "output_type": "execute_result",
          "data": {
            "text/plain": [
              "((Vineet, 0), 0, 60000, {Vineet: [(5000, 12, 3), (5000, 12, 4)]})"
            ]
          },
          "metadata": {},
          "execution_count": 7
        }
      ]
    },
    {
      "cell_type": "code",
      "source": [
        ""
      ],
      "metadata": {
        "id": "-N1OdLEfhAJp"
      },
      "execution_count": 7,
      "outputs": []
    },
    {
      "cell_type": "code",
      "source": [
        ""
      ],
      "metadata": {
        "id": "u824VMRFFLj7"
      },
      "execution_count": 7,
      "outputs": []
    },
    {
      "cell_type": "code",
      "source": [
        "def toy_sheet_setup(steps = 100):\n",
        "\n",
        "  # create vault and stake pool\n",
        "  usdc_vault = Vault('test vault')\n",
        "  yop_stakes = Stakes()\n",
        "  rewards = Rewards(usdc_vault, yop_stakes)\n",
        "\n",
        "  # create users\n",
        "  vineet, john, anar = User(\"Vineet\"), User(\"John\"), User(\"Anar\")\n",
        "\n",
        "  # make some txns in vaults and stakes in some ticks\n",
        "  # tick\n",
        "  rewards.tick_fn(1)\n",
        "\n",
        "  # users make deposit into vault\n",
        "  usdc_vault.deposit(670_000, vineet)\n",
        "  yop_stakes.stake(john, 100_000, 5)\n",
        "\n",
        "  #tick \n",
        "  rewards.tick_fn(1)\n",
        "  \n",
        "  usdc_vault.deposit(2_000_000, john)\n",
        "\n",
        "  # users stake some yop\n",
        "  # yop_stakes.stake(vineet, 5000, 12)\n",
        "  rewards.tick_fn(1)\n",
        "\n",
        "  usdc_vault.deposit(5000, anar)\n",
        "\n",
        "  yop_stakes.stake(anar, 50000, 5)\n",
        "  rewards.tick_fn(1)\n",
        "\n",
        "  # yop_stakes.stake(anar, 5000, 12)\n",
        "  rewards.tick_fn(1)\n",
        "\n",
        "\n",
        "\n",
        "  return rewards, usdc_vault, yop_stakes, [vineet, john, anar]"
      ],
      "metadata": {
        "id": "JoNpzgzkFLhQ"
      },
      "execution_count": 8,
      "outputs": []
    },
    {
      "cell_type": "code",
      "source": [
        "rewards, usdc_vault, yop_stakes, [vineet, john, anar] = toy_sheet_setup()"
      ],
      "metadata": {
        "id": "qAoqY8BhFLeo"
      },
      "execution_count": 9,
      "outputs": []
    },
    {
      "cell_type": "code",
      "source": [
        "usdc_vault.pool, yop_stakes.pool, rewards.tick, rewards.calculate_rewards()"
      ],
      "metadata": {
        "id": "9NDehVTzFLb5",
        "colab": {
          "base_uri": "https://localhost:8080/"
        },
        "outputId": "b8fb27d5-0eb8-46d4-f1e3-4717504cbeb0"
      },
      "execution_count": 10,
      "outputs": [
        {
          "output_type": "execute_result",
          "data": {
            "text/plain": [
              "({Anar: [(5000, 3)], John: [(2000000, 2)], Vineet: [(670000, 1)]},\n",
              " {Anar: [(50000, 5, 3)], John: [(100000, 5, 1)]},\n",
              " 5,\n",
              " {Anar: 14.840511248388019,\n",
              "  John: 37.94960412560259,\n",
              "  Vineet: 2.7838943172431097})"
            ]
          },
          "metadata": {},
          "execution_count": 10
        }
      ]
    },
    {
      "cell_type": "code",
      "source": [
        "rewards.reward_per_tick_history"
      ],
      "metadata": {
        "colab": {
          "base_uri": "https://localhost:8080/"
        },
        "id": "WlrsMdMBMlRS",
        "outputId": "86084633-58d7-47de-8f78-5e295b54c82e"
      },
      "execution_count": 11,
      "outputs": [
        {
          "output_type": "execute_result",
          "data": {
            "text/plain": [
              "[{'apys_1': {}, 'stake_pool': {}, 'vault_pool': {}},\n",
              " {'apys_2': {Vineet: 116.1770447761194},\n",
              "  'stake_pool': {John: [(100000, 5, 1)]},\n",
              "  'vault_pool': {Vineet: [(670000, 1)]}},\n",
              " {'apys_3': {John: 38.24237769141653, Vineet: 2.0206934584581293},\n",
              "  'stake_pool': {John: [(100000, 5, 1)]},\n",
              "  'vault_pool': {John: [(2000000, 2)], Vineet: [(670000, 1)]}},\n",
              " {'apys_4': {Anar: 14.840511248388019,\n",
              "   John: 37.94960412560259,\n",
              "   Vineet: 2.7838943172431097},\n",
              "  'stake_pool': {Anar: [(50000, 5, 3)], John: [(100000, 5, 1)]},\n",
              "  'vault_pool': {Anar: [(5000, 3)],\n",
              "   John: [(2000000, 2)],\n",
              "   Vineet: [(670000, 1)]}},\n",
              " {'apys_5': {Anar: 14.840511248388019,\n",
              "   John: 37.94960412560259,\n",
              "   Vineet: 2.7838943172431097},\n",
              "  'stake_pool': {Anar: [(50000, 5, 3)], John: [(100000, 5, 1)]},\n",
              "  'vault_pool': {Anar: [(5000, 3)],\n",
              "   John: [(2000000, 2)],\n",
              "   Vineet: [(670000, 1)]}}]"
            ]
          },
          "metadata": {},
          "execution_count": 11
        }
      ]
    },
    {
      "cell_type": "code",
      "source": [
        ""
      ],
      "metadata": {
        "id": "lZ_gNva0MlOB"
      },
      "execution_count": 11,
      "outputs": []
    },
    {
      "cell_type": "code",
      "source": [
        ""
      ],
      "metadata": {
        "id": "Gfx9Ev41smri"
      },
      "execution_count": 11,
      "outputs": []
    },
    {
      "cell_type": "code",
      "source": [
        ""
      ],
      "metadata": {
        "id": "Ue3ljqtksmoY"
      },
      "execution_count": 11,
      "outputs": []
    },
    {
      "cell_type": "code",
      "source": [
        "common_users = list(set(rewards.vault.pool.keys()).intersection(set(rewards.stakes.pool.keys())))"
      ],
      "metadata": {
        "id": "SvFCZxKTFLWq"
      },
      "execution_count": 12,
      "outputs": []
    },
    {
      "cell_type": "code",
      "source": [
        "common_users"
      ],
      "metadata": {
        "id": "AdoUh23aFLTa",
        "colab": {
          "base_uri": "https://localhost:8080/"
        },
        "outputId": "fd2b9eae-ae4a-4207-912d-0aac08c8a9a4"
      },
      "execution_count": 13,
      "outputs": [
        {
          "output_type": "execute_result",
          "data": {
            "text/plain": [
              "[John, Anar]"
            ]
          },
          "metadata": {},
          "execution_count": 13
        }
      ]
    },
    {
      "cell_type": "markdown",
      "source": [
        "## WIP: Setup Optimization simulation"
      ],
      "metadata": {
        "id": "h_xTpzkZgREz"
      }
    },
    {
      "cell_type": "code",
      "source": [
        "import random"
      ],
      "metadata": {
        "id": "9rX5hBOCjnv-"
      },
      "execution_count": 14,
      "outputs": []
    },
    {
      "cell_type": "code",
      "source": [
        "def setup_sim(steps=300):\n",
        "\n",
        "  actions = ['deposit', 'withdraw', 'stake', 'unstake']\n",
        "\n",
        "  # instantiate vaults and staking pool\n",
        "  usdc_vault = Vault('USDC_GENESIS')\n",
        "  yop_stakes = Stakes()\n",
        "  rewards = Rewards(usdc_vault, yop_stakes)\n",
        "\n",
        "  # generate random users from population of all users\n",
        "  usernames = get_usernames()\n",
        "  user_population = [User(username) for username in usernames]\n",
        "\n",
        "  for tick in range(1, steps+1):\n",
        "    # update the tick\n",
        "    rewards.tick_fn(1)\n",
        "    # for each tick\n",
        "    #  pick a random user and a random action he takes\n",
        "    user = random.choice(user_population[:20])\n",
        "    action_name = random.choice(actions)\n",
        "\n",
        "    print(f\"{user} {action_name}'s at tick {rewards.tick}\")\n",
        "\n",
        "    # execute the action\n",
        "    if(action_name == 'deposit'):\n",
        "      # deposit: user deposits a random amount in vault\n",
        "      usdc_vault.deposit(10000, user)\n",
        "    elif (action_name == 'withdraw'):\n",
        "      balance = usdc_vault.balanceOf(user)\n",
        "      usdc_vault.withdraw(balance/8, user)\n",
        "    elif (action_name == 'stake'):\n",
        "      yop_stakes.stake(user, 1000, 12)\n",
        "    else:\n",
        "      # unstake\n",
        "      pass\n",
        "  # print(rewards.calculate_rewards())\n",
        "  return rewards, user_population"
      ],
      "metadata": {
        "id": "bhTWNvxUjns9"
      },
      "execution_count": 29,
      "outputs": []
    },
    {
      "cell_type": "code",
      "source": [
        "rewards, user_population = setup_sim()"
      ],
      "metadata": {
        "id": "NJE_z2o3jnqK",
        "colab": {
          "base_uri": "https://localhost:8080/"
        },
        "outputId": "7eac6e91-535e-46f0-a8fe-08c7cec6390a"
      },
      "execution_count": 30,
      "outputs": [
        {
          "output_type": "stream",
          "name": "stdout",
          "text": [
            "opq withdraw's at tick 1\n",
            "MN withdraw's at tick 2\n",
            "tuvwxyz0123456 withdraw's at tick 3\n",
            "HIJKL stake's at tick 4\n",
            "2345 unstake's at tick 5\n",
            "ghijklmnopqrstuvwxyz012345 stake's at tick 6\n",
            "NOPQRSTUVWX stake's at tick 7\n",
            "PQRSTUVWXYZabscdef deposit's at tick 8\n",
            "JKLMNOPQRSTUVWXYZabscdefghijklmnopqrstuvwxyz0 deposit's at tick 9\n",
            "qrstuvwxyz01 unstake's at tick 10\n",
            "uvwxyz deposit's at tick 11\n",
            "uvwx deposit's at tick 12\n",
            "NOPQRSTUVWX stake's at tick 13\n",
            "uvwxyz unstake's at tick 14\n",
            "uvwx unstake's at tick 15\n",
            "KLMNOPQRSTUVWXYZabscdefghijklmnopqrstuvwxyz unstake's at tick 16\n",
            "DEFGHIJKLMNOPQRSTUVWXYZabscdefgh withdraw's at tick 17\n",
            "DEFGHIJKLMNOPQRSTUVWXYZabscdefgh deposit's at tick 18\n",
            "gh unstake's at tick 19\n",
            "jklmn unstake's at tick 20\n",
            "uvwx withdraw's at tick 21\n",
            "opq withdraw's at tick 22\n",
            "DEFGHIJKLMNOPQRSTUVWXYZabscdefgh withdraw's at tick 23\n",
            "DEFGHIJKLMNOPQRSTUVWXYZabscdefgh stake's at tick 24\n",
            "tuvwxyz0123456 withdraw's at tick 25\n",
            "gh withdraw's at tick 26\n",
            "ghijklmnopqrstuvwxyz012345 stake's at tick 27\n",
            "tuvwxyz0123456 deposit's at tick 28\n",
            "JKLMNOPQRSTUVWXYZabscdefghijklmnopqrstuvwxyz0 stake's at tick 29\n",
            "DEFGHIJKLMNOPQRSTUVWXYZabscdefgh unstake's at tick 30\n",
            "opq stake's at tick 31\n",
            "2345 deposit's at tick 32\n",
            "NOPQRSTUVWX withdraw's at tick 33\n",
            "opq deposit's at tick 34\n",
            "VW deposit's at tick 35\n",
            "qrstuvwxyz01 deposit's at tick 36\n",
            "qrstuvwxyz01 withdraw's at tick 37\n",
            "tuvwxyz0123456 stake's at tick 38\n",
            "WXYZabs deposit's at tick 39\n",
            "tuvwxyz0123456 unstake's at tick 40\n",
            "KLMNOPQRSTUVWXYZabscdefghijklmnopqrstuvwxyz stake's at tick 41\n",
            "NOPQRSTUVWX deposit's at tick 42\n",
            "uvwxyz withdraw's at tick 43\n",
            "opq stake's at tick 44\n",
            "ghijklmnopqrstuvwxyz012345 stake's at tick 45\n",
            "qrstuvwxyz01 withdraw's at tick 46\n",
            "jklmn stake's at tick 47\n",
            "2345 stake's at tick 48\n",
            "uvwxyz deposit's at tick 49\n",
            "HIJKL unstake's at tick 50\n",
            "opq deposit's at tick 51\n",
            "uvwxyz withdraw's at tick 52\n",
            "uvwxyz deposit's at tick 53\n",
            "WXYZabs unstake's at tick 54\n",
            "PQRSTUVWXYZabscdef withdraw's at tick 55\n",
            "opq unstake's at tick 56\n",
            "WXYZabs deposit's at tick 57\n",
            "NOPQRSTUVWX unstake's at tick 58\n",
            "DEFGHIJKLMNOPQRSTUVWXYZabscdefgh stake's at tick 59\n",
            "HIJKL deposit's at tick 60\n",
            "defghijklmnopqrstuvwxyz012 deposit's at tick 61\n",
            "HIJKL stake's at tick 62\n",
            "gh withdraw's at tick 63\n",
            "jklmn stake's at tick 64\n",
            "2345 withdraw's at tick 65\n",
            "qrstuvwxyz01 unstake's at tick 66\n",
            "MN stake's at tick 67\n",
            "uvwxyz deposit's at tick 68\n",
            "opq deposit's at tick 69\n",
            "uvwxyz deposit's at tick 70\n",
            "VW unstake's at tick 71\n",
            "jklmn unstake's at tick 72\n",
            "JKLMNOPQRSTUVWXYZabscdefghijklmnopqrstuvwxyz0 stake's at tick 73\n",
            "KLMNOPQRSTUVWXYZabscdefghijklmnopqrstuvwxyz deposit's at tick 74\n",
            "ghijklmnopqrstuvwxyz012345 withdraw's at tick 75\n",
            "WXYZabs unstake's at tick 76\n",
            "qrstuvwxyz01 unstake's at tick 77\n",
            "NOPQRSTUVWX withdraw's at tick 78\n",
            "jklmn withdraw's at tick 79\n",
            "qrstuvwxyz01 withdraw's at tick 80\n",
            "2345 deposit's at tick 81\n",
            "ghijklmnopqrstuvwxyz012345 withdraw's at tick 82\n",
            "defghijklmnopqrstuvwxyz012 withdraw's at tick 83\n",
            "opq unstake's at tick 84\n",
            "KLMNOPQRSTUVWXYZabscdefghijklmnopqrstuvwxyz unstake's at tick 85\n",
            "uvwxyz stake's at tick 86\n",
            "ghijklmnopqrstuvwxyz012345 withdraw's at tick 87\n",
            "HIJKL stake's at tick 88\n",
            "defghijklmnopqrstuvwxyz012 stake's at tick 89\n",
            "KLMNOPQRSTUVWXYZabscdefghijklmnopqrstuvwxyz unstake's at tick 90\n",
            "defghijklmnopqrstuvwxyz012 deposit's at tick 91\n",
            "VW withdraw's at tick 92\n",
            "tuvwxyz0123456 unstake's at tick 93\n",
            "JKLMNOPQRSTUVWXYZabscdefghijklmnopqrstuvwxyz0 unstake's at tick 94\n",
            "KLMNOPQRSTUVWXYZabscdefghijklmnopqrstuvwxyz withdraw's at tick 95\n",
            "uvwxyz stake's at tick 96\n",
            "uvwx stake's at tick 97\n",
            "TUVWXYZabscdefghijklmnopqrstuvwxyz0123 deposit's at tick 98\n",
            "2345 stake's at tick 99\n",
            "ghijklmnopqrstuvwxyz012345 deposit's at tick 100\n",
            "uvwxyz stake's at tick 101\n",
            "PQRSTUVWXYZabscdef deposit's at tick 102\n",
            "TUVWXYZabscdefghijklmnopqrstuvwxyz0123 deposit's at tick 103\n",
            "uvwx withdraw's at tick 104\n",
            "defghijklmnopqrstuvwxyz012 deposit's at tick 105\n",
            "uvwxyz deposit's at tick 106\n",
            "ghijklmnopqrstuvwxyz012345 unstake's at tick 107\n",
            "KLMNOPQRSTUVWXYZabscdefghijklmnopqrstuvwxyz withdraw's at tick 108\n",
            "KLMNOPQRSTUVWXYZabscdefghijklmnopqrstuvwxyz unstake's at tick 109\n",
            "2345 withdraw's at tick 110\n",
            "uvwxyz withdraw's at tick 111\n",
            "opq unstake's at tick 112\n",
            "KLMNOPQRSTUVWXYZabscdefghijklmnopqrstuvwxyz withdraw's at tick 113\n",
            "defghijklmnopqrstuvwxyz012 unstake's at tick 114\n",
            "uvwx unstake's at tick 115\n",
            "VW stake's at tick 116\n",
            "ghijklmnopqrstuvwxyz012345 stake's at tick 117\n",
            "WXYZabs withdraw's at tick 118\n",
            "WXYZabs withdraw's at tick 119\n",
            "MN withdraw's at tick 120\n",
            "uvwx stake's at tick 121\n",
            "WXYZabs withdraw's at tick 122\n",
            "uvwx deposit's at tick 123\n",
            "ghijklmnopqrstuvwxyz012345 withdraw's at tick 124\n",
            "MN stake's at tick 125\n",
            "qrstuvwxyz01 unstake's at tick 126\n",
            "uvwxyz unstake's at tick 127\n",
            "uvwx deposit's at tick 128\n",
            "WXYZabs stake's at tick 129\n",
            "opq stake's at tick 130\n",
            "HIJKL withdraw's at tick 131\n",
            "uvwx withdraw's at tick 132\n",
            "opq withdraw's at tick 133\n",
            "MN stake's at tick 134\n",
            "KLMNOPQRSTUVWXYZabscdefghijklmnopqrstuvwxyz deposit's at tick 135\n",
            "jklmn deposit's at tick 136\n",
            "HIJKL unstake's at tick 137\n",
            "HIJKL stake's at tick 138\n",
            "opq unstake's at tick 139\n",
            "2345 deposit's at tick 140\n",
            "HIJKL deposit's at tick 141\n",
            "tuvwxyz0123456 withdraw's at tick 142\n",
            "HIJKL stake's at tick 143\n",
            "VW unstake's at tick 144\n",
            "qrstuvwxyz01 withdraw's at tick 145\n",
            "DEFGHIJKLMNOPQRSTUVWXYZabscdefgh withdraw's at tick 146\n",
            "tuvwxyz0123456 deposit's at tick 147\n",
            "JKLMNOPQRSTUVWXYZabscdefghijklmnopqrstuvwxyz0 unstake's at tick 148\n",
            "WXYZabs withdraw's at tick 149\n",
            "uvwx deposit's at tick 150\n",
            "qrstuvwxyz01 deposit's at tick 151\n",
            "HIJKL stake's at tick 152\n",
            "MN stake's at tick 153\n",
            "gh unstake's at tick 154\n",
            "DEFGHIJKLMNOPQRSTUVWXYZabscdefgh deposit's at tick 155\n",
            "PQRSTUVWXYZabscdef unstake's at tick 156\n",
            "TUVWXYZabscdefghijklmnopqrstuvwxyz0123 deposit's at tick 157\n",
            "VW deposit's at tick 158\n",
            "PQRSTUVWXYZabscdef withdraw's at tick 159\n",
            "defghijklmnopqrstuvwxyz012 stake's at tick 160\n",
            "qrstuvwxyz01 stake's at tick 161\n",
            "MN stake's at tick 162\n",
            "KLMNOPQRSTUVWXYZabscdefghijklmnopqrstuvwxyz unstake's at tick 163\n",
            "ghijklmnopqrstuvwxyz012345 deposit's at tick 164\n",
            "opq withdraw's at tick 165\n",
            "WXYZabs stake's at tick 166\n",
            "2345 withdraw's at tick 167\n",
            "qrstuvwxyz01 unstake's at tick 168\n",
            "TUVWXYZabscdefghijklmnopqrstuvwxyz0123 deposit's at tick 169\n",
            "tuvwxyz0123456 stake's at tick 170\n",
            "tuvwxyz0123456 deposit's at tick 171\n",
            "PQRSTUVWXYZabscdef deposit's at tick 172\n",
            "HIJKL deposit's at tick 173\n",
            "defghijklmnopqrstuvwxyz012 withdraw's at tick 174\n",
            "opq stake's at tick 175\n",
            "defghijklmnopqrstuvwxyz012 unstake's at tick 176\n",
            "jklmn deposit's at tick 177\n",
            "WXYZabs deposit's at tick 178\n",
            "2345 unstake's at tick 179\n",
            "2345 stake's at tick 180\n",
            "gh unstake's at tick 181\n",
            "jklmn deposit's at tick 182\n",
            "2345 withdraw's at tick 183\n",
            "qrstuvwxyz01 unstake's at tick 184\n",
            "HIJKL stake's at tick 185\n",
            "tuvwxyz0123456 withdraw's at tick 186\n",
            "jklmn unstake's at tick 187\n",
            "tuvwxyz0123456 unstake's at tick 188\n",
            "KLMNOPQRSTUVWXYZabscdefghijklmnopqrstuvwxyz unstake's at tick 189\n",
            "defghijklmnopqrstuvwxyz012 withdraw's at tick 190\n",
            "JKLMNOPQRSTUVWXYZabscdefghijklmnopqrstuvwxyz0 stake's at tick 191\n",
            "MN stake's at tick 192\n",
            "gh withdraw's at tick 193\n",
            "opq stake's at tick 194\n",
            "tuvwxyz0123456 withdraw's at tick 195\n",
            "NOPQRSTUVWX withdraw's at tick 196\n",
            "jklmn withdraw's at tick 197\n",
            "tuvwxyz0123456 stake's at tick 198\n",
            "KLMNOPQRSTUVWXYZabscdefghijklmnopqrstuvwxyz unstake's at tick 199\n",
            "uvwx deposit's at tick 200\n",
            "opq unstake's at tick 201\n",
            "uvwxyz deposit's at tick 202\n",
            "PQRSTUVWXYZabscdef unstake's at tick 203\n",
            "jklmn deposit's at tick 204\n",
            "defghijklmnopqrstuvwxyz012 unstake's at tick 205\n",
            "JKLMNOPQRSTUVWXYZabscdefghijklmnopqrstuvwxyz0 unstake's at tick 206\n",
            "jklmn deposit's at tick 207\n",
            "NOPQRSTUVWX withdraw's at tick 208\n",
            "tuvwxyz0123456 stake's at tick 209\n",
            "PQRSTUVWXYZabscdef withdraw's at tick 210\n",
            "KLMNOPQRSTUVWXYZabscdefghijklmnopqrstuvwxyz unstake's at tick 211\n",
            "defghijklmnopqrstuvwxyz012 stake's at tick 212\n",
            "jklmn unstake's at tick 213\n",
            "NOPQRSTUVWX unstake's at tick 214\n",
            "JKLMNOPQRSTUVWXYZabscdefghijklmnopqrstuvwxyz0 deposit's at tick 215\n",
            "VW unstake's at tick 216\n",
            "ghijklmnopqrstuvwxyz012345 stake's at tick 217\n",
            "PQRSTUVWXYZabscdef deposit's at tick 218\n",
            "qrstuvwxyz01 withdraw's at tick 219\n",
            "KLMNOPQRSTUVWXYZabscdefghijklmnopqrstuvwxyz stake's at tick 220\n",
            "defghijklmnopqrstuvwxyz012 withdraw's at tick 221\n",
            "VW stake's at tick 222\n",
            "uvwx withdraw's at tick 223\n",
            "HIJKL deposit's at tick 224\n",
            "WXYZabs withdraw's at tick 225\n",
            "TUVWXYZabscdefghijklmnopqrstuvwxyz0123 stake's at tick 226\n",
            "jklmn deposit's at tick 227\n",
            "qrstuvwxyz01 stake's at tick 228\n",
            "2345 stake's at tick 229\n",
            "MN withdraw's at tick 230\n",
            "JKLMNOPQRSTUVWXYZabscdefghijklmnopqrstuvwxyz0 stake's at tick 231\n",
            "MN deposit's at tick 232\n",
            "NOPQRSTUVWX deposit's at tick 233\n",
            "TUVWXYZabscdefghijklmnopqrstuvwxyz0123 deposit's at tick 234\n",
            "opq deposit's at tick 235\n",
            "KLMNOPQRSTUVWXYZabscdefghijklmnopqrstuvwxyz unstake's at tick 236\n",
            "KLMNOPQRSTUVWXYZabscdefghijklmnopqrstuvwxyz stake's at tick 237\n",
            "PQRSTUVWXYZabscdef deposit's at tick 238\n",
            "ghijklmnopqrstuvwxyz012345 withdraw's at tick 239\n",
            "opq stake's at tick 240\n",
            "TUVWXYZabscdefghijklmnopqrstuvwxyz0123 stake's at tick 241\n",
            "VW deposit's at tick 242\n",
            "ghijklmnopqrstuvwxyz012345 deposit's at tick 243\n",
            "HIJKL withdraw's at tick 244\n",
            "ghijklmnopqrstuvwxyz012345 deposit's at tick 245\n",
            "uvwx withdraw's at tick 246\n",
            "VW withdraw's at tick 247\n",
            "JKLMNOPQRSTUVWXYZabscdefghijklmnopqrstuvwxyz0 deposit's at tick 248\n",
            "DEFGHIJKLMNOPQRSTUVWXYZabscdefgh deposit's at tick 249\n",
            "uvwxyz unstake's at tick 250\n",
            "opq stake's at tick 251\n",
            "DEFGHIJKLMNOPQRSTUVWXYZabscdefgh stake's at tick 252\n",
            "gh deposit's at tick 253\n",
            "qrstuvwxyz01 withdraw's at tick 254\n",
            "jklmn unstake's at tick 255\n",
            "HIJKL stake's at tick 256\n",
            "NOPQRSTUVWX deposit's at tick 257\n",
            "MN deposit's at tick 258\n",
            "2345 unstake's at tick 259\n",
            "HIJKL deposit's at tick 260\n",
            "NOPQRSTUVWX unstake's at tick 261\n",
            "DEFGHIJKLMNOPQRSTUVWXYZabscdefgh unstake's at tick 262\n",
            "ghijklmnopqrstuvwxyz012345 unstake's at tick 263\n",
            "WXYZabs stake's at tick 264\n",
            "MN stake's at tick 265\n",
            "defghijklmnopqrstuvwxyz012 stake's at tick 266\n",
            "2345 unstake's at tick 267\n",
            "2345 unstake's at tick 268\n",
            "HIJKL deposit's at tick 269\n",
            "jklmn stake's at tick 270\n",
            "KLMNOPQRSTUVWXYZabscdefghijklmnopqrstuvwxyz unstake's at tick 271\n",
            "opq stake's at tick 272\n",
            "ghijklmnopqrstuvwxyz012345 withdraw's at tick 273\n",
            "gh unstake's at tick 274\n",
            "jklmn stake's at tick 275\n",
            "PQRSTUVWXYZabscdef stake's at tick 276\n",
            "MN unstake's at tick 277\n",
            "DEFGHIJKLMNOPQRSTUVWXYZabscdefgh stake's at tick 278\n",
            "2345 withdraw's at tick 279\n",
            "uvwx deposit's at tick 280\n",
            "qrstuvwxyz01 stake's at tick 281\n",
            "KLMNOPQRSTUVWXYZabscdefghijklmnopqrstuvwxyz stake's at tick 282\n",
            "uvwxyz unstake's at tick 283\n",
            "KLMNOPQRSTUVWXYZabscdefghijklmnopqrstuvwxyz stake's at tick 284\n",
            "qrstuvwxyz01 stake's at tick 285\n",
            "NOPQRSTUVWX stake's at tick 286\n",
            "2345 deposit's at tick 287\n",
            "JKLMNOPQRSTUVWXYZabscdefghijklmnopqrstuvwxyz0 deposit's at tick 288\n",
            "PQRSTUVWXYZabscdef unstake's at tick 289\n",
            "qrstuvwxyz01 stake's at tick 290\n",
            "TUVWXYZabscdefghijklmnopqrstuvwxyz0123 stake's at tick 291\n",
            "defghijklmnopqrstuvwxyz012 withdraw's at tick 292\n",
            "defghijklmnopqrstuvwxyz012 withdraw's at tick 293\n",
            "HIJKL unstake's at tick 294\n",
            "PQRSTUVWXYZabscdef withdraw's at tick 295\n",
            "DEFGHIJKLMNOPQRSTUVWXYZabscdefgh stake's at tick 296\n",
            "VW stake's at tick 297\n",
            "uvwx withdraw's at tick 298\n",
            "PQRSTUVWXYZabscdef withdraw's at tick 299\n",
            "MN unstake's at tick 300\n"
          ]
        }
      ]
    },
    {
      "cell_type": "code",
      "source": [
        "len(rewards.vault.pool.keys()), rewards.vault.tvl()"
      ],
      "metadata": {
        "colab": {
          "base_uri": "https://localhost:8080/"
        },
        "id": "mjq-LAPkjnnO",
        "outputId": "bfb36afc-f4d2-4d5a-8489-7cf35688a1bc"
      },
      "execution_count": 31,
      "outputs": [
        {
          "output_type": "execute_result",
          "data": {
            "text/plain": [
              "(20, 617509.880065918)"
            ]
          },
          "metadata": {},
          "execution_count": 31
        }
      ]
    },
    {
      "cell_type": "code",
      "source": [
        "rewards.tick, rewards.vault.tick, rewards.stakes.tick"
      ],
      "metadata": {
        "id": "epqytokUFLMV",
        "colab": {
          "base_uri": "https://localhost:8080/"
        },
        "outputId": "3a6335db-ce60-47f2-d01f-f7945a14c92c"
      },
      "execution_count": 32,
      "outputs": [
        {
          "output_type": "execute_result",
          "data": {
            "text/plain": [
              "(300, 300, 300)"
            ]
          },
          "metadata": {},
          "execution_count": 32
        }
      ]
    },
    {
      "cell_type": "code",
      "source": [
        "rewards.calculate_rewards()"
      ],
      "metadata": {
        "colab": {
          "base_uri": "https://localhost:8080/"
        },
        "id": "9jlqA5VfiFos",
        "outputId": "c239a470-880e-435d-ec1f-240995298b93"
      },
      "execution_count": 33,
      "outputs": [
        {
          "output_type": "execute_result",
          "data": {
            "text/plain": [
              "{2345: 114.67444019783497,\n",
              " DEFGHIJKLMNOPQRSTUVWXYZabscdefgh: 138.01308524701773,\n",
              " HIJKL: 228.21950933648606,\n",
              " JKLMNOPQRSTUVWXYZabscdefghijklmnopqrstuvwxyz0: 124.10620839955382,\n",
              " KLMNOPQRSTUVWXYZabscdefghijklmnopqrstuvwxyz: 129.617859882848,\n",
              " MN: 178.87610189659085,\n",
              " NOPQRSTUVWX: 90.55061336464814,\n",
              " PQRSTUVWXYZabscdef: 48.65105387752588,\n",
              " TUVWXYZabscdefghijklmnopqrstuvwxyz0123: 108.40356142071674,\n",
              " VW: 89.36839802816077,\n",
              " WXYZabs: 84.6577749726081,\n",
              " defghijklmnopqrstuvwxyz012: 104.75681446203701,\n",
              " gh: 7.661952560525677,\n",
              " ghijklmnopqrstuvwxyz012345: 141.23050673239473,\n",
              " jklmn: 136.55688131040807,\n",
              " opq: 212.17729616288543,\n",
              " qrstuvwxyz01: 126.12782856649254,\n",
              " tuvwxyz0123456: 110.32367264126448,\n",
              " uvwx: 76.12046710536823,\n",
              " uvwxyz: 115.57167719511476}"
            ]
          },
          "metadata": {},
          "execution_count": 33
        }
      ]
    },
    {
      "cell_type": "code",
      "source": [
        "rewards.vault.pool"
      ],
      "metadata": {
        "colab": {
          "base_uri": "https://localhost:8080/"
        },
        "id": "GFtadhZNiFmy",
        "outputId": "23850b0d-8915-4ea4-fadd-c6d50e7a2b1f"
      },
      "execution_count": 34,
      "outputs": [
        {
          "output_type": "execute_result",
          "data": {
            "text/plain": [
              "{2345: [(10000, 32),\n",
              "  (-1250.0, 65),\n",
              "  (10000, 81),\n",
              "  (-2343.75, 110),\n",
              "  (10000, 140),\n",
              "  (-3300.78125, 167),\n",
              "  (-2888.18359375, 183),\n",
              "  (-2527.16064453125, 279),\n",
              "  (10000, 287)],\n",
              " DEFGHIJKLMNOPQRSTUVWXYZabscdefgh: [(10000, 18),\n",
              "  (-1250.0, 23),\n",
              "  (-1093.75, 146),\n",
              "  (10000, 155),\n",
              "  (10000, 249)],\n",
              " HIJKL: [(10000, 60),\n",
              "  (-1250.0, 131),\n",
              "  (10000, 141),\n",
              "  (10000, 173),\n",
              "  (10000, 224),\n",
              "  (-4843.75, 244),\n",
              "  (10000, 260),\n",
              "  (10000, 269)],\n",
              " JKLMNOPQRSTUVWXYZabscdefghijklmnopqrstuvwxyz0: [(10000, 9),\n",
              "  (10000, 215),\n",
              "  (10000, 248),\n",
              "  (10000, 288)],\n",
              " KLMNOPQRSTUVWXYZabscdefghijklmnopqrstuvwxyz: [(10000, 74),\n",
              "  (-1250.0, 95),\n",
              "  (-1093.75, 108),\n",
              "  (-957.03125, 113),\n",
              "  (10000, 135)],\n",
              " MN: [(10000, 232), (10000, 258)],\n",
              " NOPQRSTUVWX: [(10000, 42),\n",
              "  (-1250.0, 78),\n",
              "  (-1093.75, 196),\n",
              "  (-957.03125, 208),\n",
              "  (10000, 233),\n",
              "  (10000, 257)],\n",
              " PQRSTUVWXYZabscdef: [(10000, 8),\n",
              "  (-1250.0, 55),\n",
              "  (10000, 102),\n",
              "  (-2343.75, 159),\n",
              "  (10000, 172),\n",
              "  (-3300.78125, 210),\n",
              "  (10000, 218),\n",
              "  (10000, 238),\n",
              "  (-5388.18359375, 295),\n",
              "  (-4714.66064453125, 299)],\n",
              " TUVWXYZabscdefghijklmnopqrstuvwxyz0123: [(10000, 98),\n",
              "  (10000, 103),\n",
              "  (10000, 157),\n",
              "  (10000, 169),\n",
              "  (10000, 234)],\n",
              " VW: [(10000, 35), (-1250.0, 92), (10000, 158), (10000, 242), (-3593.75, 247)],\n",
              " WXYZabs: [(10000, 39),\n",
              "  (10000, 57),\n",
              "  (-2500.0, 118),\n",
              "  (-2187.5, 119),\n",
              "  (-1914.0625, 122),\n",
              "  (-1674.8046875, 149),\n",
              "  (10000, 178),\n",
              "  (-2715.4541015625, 225)],\n",
              " defghijklmnopqrstuvwxyz012: [(10000, 61),\n",
              "  (-1250.0, 83),\n",
              "  (10000, 91),\n",
              "  (10000, 105),\n",
              "  (-3593.75, 174),\n",
              "  (-3144.53125, 190),\n",
              "  (-2751.46484375, 221),\n",
              "  (-2407.53173828125, 292),\n",
              "  (-2106.5902709960938, 293)],\n",
              " gh: [(10000, 253)],\n",
              " ghijklmnopqrstuvwxyz012345: [(10000, 100),\n",
              "  (-1250.0, 124),\n",
              "  (10000, 164),\n",
              "  (-2343.75, 239),\n",
              "  (10000, 243),\n",
              "  (10000, 245),\n",
              "  (-4550.78125, 273)],\n",
              " jklmn: [(10000, 136),\n",
              "  (10000, 177),\n",
              "  (10000, 182),\n",
              "  (-3750.0, 197),\n",
              "  (10000, 204),\n",
              "  (10000, 207),\n",
              "  (10000, 227)],\n",
              " opq: [(10000, 34),\n",
              "  (10000, 51),\n",
              "  (10000, 69),\n",
              "  (-3750.0, 133),\n",
              "  (-3281.25, 165),\n",
              "  (10000, 235)],\n",
              " qrstuvwxyz01: [(10000, 36),\n",
              "  (-1250.0, 37),\n",
              "  (-1093.75, 46),\n",
              "  (-957.03125, 80),\n",
              "  (-837.40234375, 145),\n",
              "  (10000, 151),\n",
              "  (-1982.72705078125, 219),\n",
              "  (-1734.8861694335938, 254)],\n",
              " tuvwxyz0123456: [(10000, 28),\n",
              "  (-1250.0, 142),\n",
              "  (10000, 147),\n",
              "  (10000, 171),\n",
              "  (-3593.75, 186),\n",
              "  (-3144.53125, 195)],\n",
              " uvwx: [(10000, 12),\n",
              "  (-1250.0, 21),\n",
              "  (-1093.75, 104),\n",
              "  (10000, 123),\n",
              "  (10000, 128),\n",
              "  (-3457.03125, 132),\n",
              "  (10000, 150),\n",
              "  (10000, 200),\n",
              "  (-5524.90234375, 223),\n",
              "  (-4834.28955078125, 246),\n",
              "  (10000, 280),\n",
              "  (-5480.003356933594, 298)],\n",
              " uvwxyz: [(10000, 11),\n",
              "  (-1250.0, 43),\n",
              "  (10000, 49),\n",
              "  (-2343.75, 52),\n",
              "  (10000, 53),\n",
              "  (10000, 68),\n",
              "  (10000, 70),\n",
              "  (10000, 106),\n",
              "  (-7050.78125, 111),\n",
              "  (10000, 202)]}"
            ]
          },
          "metadata": {},
          "execution_count": 34
        }
      ]
    },
    {
      "cell_type": "code",
      "source": [
        "rewards.stakes.pool"
      ],
      "metadata": {
        "colab": {
          "base_uri": "https://localhost:8080/"
        },
        "id": "8nee2Q0JiFkn",
        "outputId": "8aaf0b27-6e21-44d1-da17-95588ed6d2df"
      },
      "execution_count": 35,
      "outputs": [
        {
          "output_type": "execute_result",
          "data": {
            "text/plain": [
              "{2345: [(1000, 12, 48), (1000, 12, 99), (1000, 12, 180), (1000, 12, 229)],\n",
              " DEFGHIJKLMNOPQRSTUVWXYZabscdefgh: [(1000, 12, 24),\n",
              "  (1000, 12, 59),\n",
              "  (1000, 12, 252),\n",
              "  (1000, 12, 278),\n",
              "  (1000, 12, 296)],\n",
              " HIJKL: [(1000, 12, 4),\n",
              "  (1000, 12, 62),\n",
              "  (1000, 12, 88),\n",
              "  (1000, 12, 138),\n",
              "  (1000, 12, 143),\n",
              "  (1000, 12, 152),\n",
              "  (1000, 12, 185),\n",
              "  (1000, 12, 256)],\n",
              " JKLMNOPQRSTUVWXYZabscdefghijklmnopqrstuvwxyz0: [(1000, 12, 29),\n",
              "  (1000, 12, 73),\n",
              "  (1000, 12, 191),\n",
              "  (1000, 12, 231)],\n",
              " KLMNOPQRSTUVWXYZabscdefghijklmnopqrstuvwxyz: [(1000, 12, 41),\n",
              "  (1000, 12, 220),\n",
              "  (1000, 12, 237),\n",
              "  (1000, 12, 282),\n",
              "  (1000, 12, 284)],\n",
              " MN: [(1000, 12, 67),\n",
              "  (1000, 12, 125),\n",
              "  (1000, 12, 134),\n",
              "  (1000, 12, 153),\n",
              "  (1000, 12, 162),\n",
              "  (1000, 12, 192),\n",
              "  (1000, 12, 265)],\n",
              " NOPQRSTUVWX: [(1000, 12, 7), (1000, 12, 13), (1000, 12, 286)],\n",
              " PQRSTUVWXYZabscdef: [(1000, 12, 276)],\n",
              " TUVWXYZabscdefghijklmnopqrstuvwxyz0123: [(1000, 12, 226),\n",
              "  (1000, 12, 241),\n",
              "  (1000, 12, 291)],\n",
              " VW: [(1000, 12, 116), (1000, 12, 222), (1000, 12, 297)],\n",
              " WXYZabs: [(1000, 12, 129), (1000, 12, 166), (1000, 12, 264)],\n",
              " defghijklmnopqrstuvwxyz012: [(1000, 12, 89),\n",
              "  (1000, 12, 160),\n",
              "  (1000, 12, 212),\n",
              "  (1000, 12, 266)],\n",
              " ghijklmnopqrstuvwxyz012345: [(1000, 12, 6),\n",
              "  (1000, 12, 27),\n",
              "  (1000, 12, 45),\n",
              "  (1000, 12, 117),\n",
              "  (1000, 12, 217)],\n",
              " jklmn: [(1000, 12, 47), (1000, 12, 64), (1000, 12, 270), (1000, 12, 275)],\n",
              " opq: [(1000, 12, 31),\n",
              "  (1000, 12, 44),\n",
              "  (1000, 12, 130),\n",
              "  (1000, 12, 175),\n",
              "  (1000, 12, 194),\n",
              "  (1000, 12, 240),\n",
              "  (1000, 12, 251),\n",
              "  (1000, 12, 272)],\n",
              " qrstuvwxyz01: [(1000, 12, 161),\n",
              "  (1000, 12, 228),\n",
              "  (1000, 12, 281),\n",
              "  (1000, 12, 285),\n",
              "  (1000, 12, 290)],\n",
              " tuvwxyz0123456: [(1000, 12, 38),\n",
              "  (1000, 12, 170),\n",
              "  (1000, 12, 198),\n",
              "  (1000, 12, 209)],\n",
              " uvwx: [(1000, 12, 97), (1000, 12, 121)],\n",
              " uvwxyz: [(1000, 12, 86), (1000, 12, 96), (1000, 12, 101)]}"
            ]
          },
          "metadata": {},
          "execution_count": 35
        }
      ]
    },
    {
      "cell_type": "code",
      "source": [
        ""
      ],
      "metadata": {
        "id": "Rq42v8_3iFiZ"
      },
      "execution_count": null,
      "outputs": []
    },
    {
      "cell_type": "code",
      "source": [
        ""
      ],
      "metadata": {
        "id": "7DFoDlxtiFf7"
      },
      "execution_count": null,
      "outputs": []
    },
    {
      "cell_type": "code",
      "source": [
        ""
      ],
      "metadata": {
        "id": "ubXrHAbIstBI"
      },
      "execution_count": null,
      "outputs": []
    }
  ]
}