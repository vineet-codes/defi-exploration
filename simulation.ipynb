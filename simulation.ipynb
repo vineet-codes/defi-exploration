{
  "nbformat": 4,
  "nbformat_minor": 0,
  "metadata": {
    "colab": {
      "name": "simulation.ipynb",
      "provenance": [],
      "collapsed_sections": [],
      "authorship_tag": "ABX9TyNb8gTa5g7fKwOv2Y0PF2b6",
      "include_colab_link": true
    },
    "kernelspec": {
      "name": "python3",
      "display_name": "Python 3"
    },
    "language_info": {
      "name": "python"
    }
  },
  "cells": [
    {
      "cell_type": "markdown",
      "metadata": {
        "id": "view-in-github",
        "colab_type": "text"
      },
      "source": [
        "<a href=\"https://colab.research.google.com/github/vineet-codes/defi-exploration/blob/main/simulation.ipynb\" target=\"_parent\"><img src=\"https://colab.research.google.com/assets/colab-badge.svg\" alt=\"Open In Colab\"/></a>"
      ]
    },
    {
      "cell_type": "code",
      "source": [
        "import matplotlib.pyplot as plt\n",
        "import pandas as pd\n",
        "import itertools"
      ],
      "metadata": {
        "id": "X0m3YUcuu12x"
      },
      "execution_count": 1,
      "outputs": []
    },
    {
      "cell_type": "code",
      "source": [
        "def get_usernames(r=2):\n",
        "  inputstring = 'ABCDEFGHIJKLMNOPQRSTUVWXYZabscdefghijklmnopqrstuvwxyz0123456789'\n",
        "  # print(len(inputstring))\n",
        "  username_list =list(set([inputstring[x:y] for x, y in itertools.combinations(range(len(inputstring) + 1), r = r)]))\n",
        "  return username_list\n",
        "\n",
        "len(get_usernames())"
      ],
      "metadata": {
        "colab": {
          "base_uri": "https://localhost:8080/"
        },
        "id": "YbFhpxSkHenk",
        "outputId": "cce04e76-e831-4117-84ce-3f5434513e64"
      },
      "execution_count": 2,
      "outputs": [
        {
          "output_type": "execute_result",
          "data": {
            "text/plain": [
              "2015"
            ]
          },
          "metadata": {},
          "execution_count": 2
        }
      ]
    },
    {
      "cell_type": "markdown",
      "source": [
        "Questions: \n",
        "\n",
        "1. How does unstake work [user has to claim it ?]: Not implemented at this point of time."
      ],
      "metadata": {
        "id": "8Ao1o7qBgjms"
      }
    },
    {
      "cell_type": "markdown",
      "source": [
        "## Four main classes\n",
        "\n",
        "1. Vault\n",
        "2. Stakes\n",
        "3. Rewards\n",
        "4. Users"
      ],
      "metadata": {
        "id": "vCc1_V_YQ5SH"
      }
    },
    {
      "cell_type": "code",
      "execution_count": 3,
      "metadata": {
        "id": "fue1ZX2FoCIj"
      },
      "outputs": [],
      "source": [
        "class Vault:\n",
        "\n",
        "  def __init__(self, name):\n",
        "    # pool is of the form {user: [(amount_1, tick_1), (amount_2, tick_2)]}\n",
        "    self.pool = {}\n",
        "\n",
        "    self.name = name\n",
        "    # self.rewards_pool = rewards_pool\n",
        "    # tick is used for having a contcept of time in our analysis\n",
        "    self.tick = 0\n",
        "\n",
        "  def update_tick(self, step):\n",
        "    self.tick += step\n",
        "\n",
        "  def balanceOf(self, user):\n",
        "    user_txns = self.pool.get(user,[])\n",
        "    if(len(user_txns) == 0):\n",
        "      return 0 #f'It seems {user} has made no txns in to the Vault'\n",
        "    return sum([amount for (amount, _) in user_txns])\n",
        "    \n",
        "\n",
        "  def shareOfUser(self, user):\n",
        "    \"\"\"\n",
        "    return: users shares of the total pool\n",
        "    \"\"\"\n",
        "    return self.balanceOf(user) / self.tvl()\n",
        "\n",
        "  def deposit(self, amount, user):\n",
        "    \"\"\"\n",
        "    return: tuple (user, updated balance)\n",
        "    \"\"\"\n",
        "    if (user in self.pool.keys()):\n",
        "      user_txns = self.pool.get(user, []) \n",
        "      user_txns.append((amount, self.tick))\n",
        "      self.pool[user] = user_txns\n",
        "    else:\n",
        "      self.pool[user] = [(amount, self.tick)]\n",
        "    return user, self.pool[user]\n",
        "\n",
        "  def withdraw(self, withdraw_amount, user):\n",
        "    \"\"\"\n",
        "    return: tuple (user, updated balance)\n",
        "    \"\"\"\n",
        "    if(user not in self.pool.keys()):\n",
        "      return f'{user} has not deposited in the vault'\n",
        "    \n",
        "    if(self.balanceOf(user) < withdraw_amount):\n",
        "      return f'Not enough balance, {user} can one withdraw upto: {self.balanceOf(user)}'\n",
        "    \n",
        "    # db update\n",
        "    # self.pool[user] = self.pool[user] - withdraw_amount\n",
        "    self.pool[user].append((-1* withdraw_amount, self.tick))\n",
        "\n",
        "    return user,self.balanceOf(user)\n",
        "\n",
        "  def tvl(self):\n",
        "    result = 0\n",
        "    for user, txns in self.pool.items():\n",
        "      user_balance = self.balanceOf(user)\n",
        "      result += user_balance\n",
        "    return result\n",
        "      \n",
        "    return sum([v for _,v in self.pool.items()])\n",
        "  \n",
        "  def get_pool(self):\n",
        "    return self.pool\n",
        "\n",
        "\n",
        "\n",
        "class Stakes:\n",
        "\n",
        "  def __init__(self, name=\"YOP_LOCKBOX\"):\n",
        "\n",
        "    # pool is of the form {user: [(amount_1, duration_1, tick_1), (amount_2, duration_2, tick_2), (amount_1, duration_1, tick_2)]}\n",
        "    self.pool = {}\n",
        "\n",
        "    self.name = name\n",
        "    # self.rewards_pool = rewards_pool\n",
        "    # tick helps with time travel\n",
        "    self.tick = 0\n",
        "\n",
        "  def update_tick(self, step):\n",
        "    self.tick += step\n",
        "\n",
        "  def stake(self, user, amount, duration):\n",
        "    \"\"\"\n",
        "    duratrion: in months\n",
        "    \"\"\"\n",
        "    # assert self.tick == tick\n",
        "\n",
        "    user_stakes = self.pool.get(user, [])\n",
        "    # print(user_stakes)\n",
        "    user_stakes.append((amount, duration, self.tick))\n",
        "    self.pool[user] = user_stakes\n",
        "    # self.rewards_pool.tick()\n",
        "    return user, self.pool.get(user, [])\n",
        "\n",
        "  def unstake(self):\n",
        "    pass\n",
        "\n",
        "\n",
        "  def get_pool(self):\n",
        "    return self.pool\n",
        "\n",
        "  def pool_size(self):\n",
        "    return sum([amount*duration for user in self.pool.keys() for amount, duration, _ in self.pool[user]])\n",
        "\n",
        "  def shareOfUser(self, user):\n",
        "    totalPoolSize = self.pool_size()\n",
        "    if(totalPoolSize == 0):\n",
        "      return 0\n",
        "    userPoolSize = sum([amount*duration for amount, duration, _ in self.pool.get(user, [(0,0,0)])])\n",
        "    return userPoolSize / totalPoolSize\n",
        "\n",
        "\n",
        "\n",
        "class Rewards:\n",
        "\n",
        "  def __init__(self, vault, stakes, \n",
        "               weights=[0.2,0.8], \n",
        "               vault_stake_reward_split = [0.75, 0.25], \n",
        "               yearly_emissions = 3891931,\n",
        "               yop_token_price = 1):\n",
        "    \n",
        "    self.tick = 0\n",
        "    \n",
        "    self.yearly_emissions = yearly_emissions\n",
        "\n",
        "    self.vault = vault\n",
        "    self.stakes = stakes\n",
        "\n",
        "    self.weights = weights\n",
        "    self.vault_stake_reward_split = vault_stake_reward_split\n",
        "    self.yop_token_price = yop_token_price\n",
        "\n",
        "    # list to store history state per tick\n",
        "    self.reward_per_tick_history = []\n",
        "\n",
        "  \n",
        "  def update_tick(self, step):\n",
        "    self.tick += step\n",
        "\n",
        "\n",
        "  def calculate_rewards(self):\n",
        "\n",
        "    result = {}\n",
        "    \n",
        "    total_power = 0\n",
        "    for user in list(set(self.vault.pool.keys())):\n",
        "      vault_boost_multiplier = self.weights[0]*self.vault.shareOfUser(user) + self.weights[1]*self.stakes.shareOfUser(user)\n",
        "      total_power += vault_boost_multiplier * self.vault.balanceOf(user)\n",
        "\n",
        "    # print(total_power)\n",
        "\n",
        "    for user in list(set(self.vault.pool.keys())):\n",
        "      # print(\"=========\")\n",
        "      vault_boost_multiplier = self.weights[0]*self.vault.shareOfUser(user) + self.weights[1]*self.stakes.shareOfUser(user)\n",
        "      # print(f'{user} vault boost multiplier is: {vault_boost_multiplier}')\n",
        "      # x = (vault_boost_multiplier * self.vault.balanceOf(user) / total_power) * ((self.vault_stake_reward_split[0]/4)*self.yearly_emissions) * (self.yop_token_price)\n",
        "      x = ((vault_boost_multiplier * self.vault.balanceOf(user)) / total_power) * ((0.2)*self.yearly_emissions) * (self.yop_token_price)\n",
        "      # print(f\"{user} is getting {(x / self.vault.balanceOf(user))*100}% APY in the vault\")\n",
        "      result[user] = (x / self.vault.balanceOf(user))*100\n",
        "    return result\n",
        " \n",
        "    \n",
        "  \n",
        "  def tick_fn(self, step):\n",
        "\n",
        "\n",
        "    # update clocks for everyone\n",
        "    self.update_tick(step)\n",
        "    self.vault.update_tick(step)\n",
        "    self.stakes.update_tick(step)\n",
        "\n",
        "    # TODO: calculate the rewards earned in this tick\n",
        "\n",
        "    # TODO: unstake and calculate stake rewards to be persisted\n",
        "\n",
        "    # calculate the current vault reward state to be persisted\n",
        "    state = {}\n",
        "\n",
        "    # print(f\"===Tick: {self.tick}====\")\n",
        "    # print(self.calculate_rewards())\n",
        "    # print(\"Vault pool\",self.vault.pool)\n",
        "    # print(\"Stake Pool\", self.stakes.pool)\n",
        "\n",
        "    state[f'apys_{self.tick}'] = self.calculate_rewards()\n",
        "    state['vault_pool'] = self.vault.pool.copy()\n",
        "    state['stake_pool'] = self.stakes.pool.copy()\n",
        "\n",
        "    self.reward_per_tick_history.append(state)\n",
        "    # print(\"========\")\n",
        "\n",
        "    \n",
        "    \n",
        "      \n",
        "\n",
        "  \n",
        "\n",
        "\n",
        "# v = Vault()\n",
        "# print(v.tvl())\n",
        "# print(v.balanceOf('dfg'))\n",
        "# v.deposit(5000, 'e')\n",
        "# print(v.tvl())\n",
        "\n",
        "class User:\n",
        "\n",
        "  def __init__(self, name):\n",
        "    self.name = name\n",
        "\n",
        "  def __repr__(self):\n",
        "    return f'{self.name}'\n",
        "\n",
        "  def vault_rewards(self):\n",
        "    pass\n",
        "\n",
        "  def stake_rewards(self):\n",
        "    pass"
      ]
    },
    {
      "cell_type": "code",
      "source": [
        "usdc_vault = Vault('test')\n",
        "yop_stakes = Stakes()\n",
        "vineet = User(\"Vineet\")\n",
        "john = User(\"John\")\n",
        "anar = User(\"Anar\")\n",
        "\n",
        "reward_calculator = Rewards(usdc_vault, yop_stakes)\n",
        "\n",
        "reward_calculator.tick_fn(1)\n",
        "\n",
        "# users make deposit into vault\n",
        "usdc_vault.deposit(50_000, vineet)\n",
        "# yop_stakes.stake(john, 5000, 12)\n",
        "\n",
        "\n",
        "reward_calculator.tick_fn(1)\n",
        "\n",
        "usdc_vault.deposit(50_000, vineet)\n",
        "\n",
        "reward_calculator.tick_fn(1)\n",
        "\n",
        "usdc_vault.deposit(60_000, john)\n",
        "\n",
        "# users stake some yop\n",
        "yop_stakes.stake(vineet, 5000, 12)\n",
        "reward_calculator.tick_fn(1)\n",
        "\n",
        "yop_stakes.stake(vineet, 5000, 12)\n",
        "reward_calculator.tick_fn(1)\n",
        "\n",
        "\n",
        "reward_calculator.tick_fn(1)"
      ],
      "metadata": {
        "id": "3p5Eop74DpOP"
      },
      "execution_count": 4,
      "outputs": []
    },
    {
      "cell_type": "code",
      "source": [
        "usdc_vault.pool, usdc_vault.balanceOf(anar)"
      ],
      "metadata": {
        "colab": {
          "base_uri": "https://localhost:8080/"
        },
        "id": "_35dk24cMjPa",
        "outputId": "e13db7e7-f455-4a04-feb1-8863364fefd4"
      },
      "execution_count": 5,
      "outputs": [
        {
          "output_type": "execute_result",
          "data": {
            "text/plain": [
              "({John: [(60000, 3)], Vineet: [(50000, 1), (50000, 2)]}, 0)"
            ]
          },
          "metadata": {},
          "execution_count": 5
        }
      ]
    },
    {
      "cell_type": "code",
      "source": [
        "usdc_vault.shareOfUser(vineet) + usdc_vault.shareOfUser(john) == 1"
      ],
      "metadata": {
        "id": "EGNrGKIHMjKH",
        "colab": {
          "base_uri": "https://localhost:8080/"
        },
        "outputId": "cda6b0cd-da96-416f-857c-b5e63b9be1df"
      },
      "execution_count": 6,
      "outputs": [
        {
          "output_type": "execute_result",
          "data": {
            "text/plain": [
              "True"
            ]
          },
          "metadata": {},
          "execution_count": 6
        }
      ]
    },
    {
      "cell_type": "code",
      "source": [
        "usdc_vault.withdraw(100000, vineet), usdc_vault.balanceOf(vineet), usdc_vault.tvl(), yop_stakes.get_pool()"
      ],
      "metadata": {
        "colab": {
          "base_uri": "https://localhost:8080/"
        },
        "id": "WUu5ltSsDoht",
        "outputId": "2d5dae82-d783-47b3-8aaf-c9c8e659c028"
      },
      "execution_count": 7,
      "outputs": [
        {
          "output_type": "execute_result",
          "data": {
            "text/plain": [
              "((Vineet, 0), 0, 60000, {Vineet: [(5000, 12, 3), (5000, 12, 4)]})"
            ]
          },
          "metadata": {},
          "execution_count": 7
        }
      ]
    },
    {
      "cell_type": "markdown",
      "source": [
        "##Toy Sheet setup: Replication our excel sheet"
      ],
      "metadata": {
        "id": "kxvKHEb0Qb9e"
      }
    },
    {
      "cell_type": "code",
      "source": [
        ""
      ],
      "metadata": {
        "id": "-N1OdLEfhAJp"
      },
      "execution_count": 32,
      "outputs": []
    },
    {
      "cell_type": "code",
      "source": [
        ""
      ],
      "metadata": {
        "id": "u824VMRFFLj7"
      },
      "execution_count": 32,
      "outputs": []
    },
    {
      "cell_type": "code",
      "source": [
        "def toy_sheet_setup(steps = 100):\n",
        "\n",
        "  # create vault and stake pool\n",
        "  usdc_vault = Vault('test vault')\n",
        "  yop_stakes = Stakes()\n",
        "  rewards = Rewards(usdc_vault, yop_stakes)\n",
        "\n",
        "  # create users\n",
        "  vineet, john, anar = User(\"Vineet\"), User(\"John\"), User(\"Anar\")\n",
        "\n",
        "  # make some txns in vaults and stakes in some ticks\n",
        "  # tick\n",
        "  rewards.tick_fn(1)\n",
        "\n",
        "  # users make deposit into vault\n",
        "  usdc_vault.deposit(670_000, vineet)\n",
        "  yop_stakes.stake(john, 100_000, 5)\n",
        "\n",
        "  #tick \n",
        "  rewards.tick_fn(1)\n",
        "  \n",
        "  usdc_vault.deposit(2_000_000, john)\n",
        "\n",
        "  # users stake some yop\n",
        "  # yop_stakes.stake(vineet, 5000, 12)\n",
        "  rewards.tick_fn(1)\n",
        "\n",
        "  usdc_vault.deposit(5000, anar)\n",
        "\n",
        "  yop_stakes.stake(anar, 50000, 5)\n",
        "  rewards.tick_fn(1)\n",
        "\n",
        "  # yop_stakes.stake(anar, 5000, 12)\n",
        "  rewards.tick_fn(1)\n",
        "\n",
        "\n",
        "\n",
        "  return rewards, usdc_vault, yop_stakes, [vineet, john, anar]"
      ],
      "metadata": {
        "id": "JoNpzgzkFLhQ"
      },
      "execution_count": 8,
      "outputs": []
    },
    {
      "cell_type": "code",
      "source": [
        "rewards, usdc_vault, yop_stakes, [vineet, john, anar] = toy_sheet_setup()"
      ],
      "metadata": {
        "id": "qAoqY8BhFLeo"
      },
      "execution_count": 9,
      "outputs": []
    },
    {
      "cell_type": "code",
      "source": [
        "usdc_vault.pool, yop_stakes.pool, rewards.tick, rewards.calculate_rewards()"
      ],
      "metadata": {
        "id": "9NDehVTzFLb5",
        "colab": {
          "base_uri": "https://localhost:8080/"
        },
        "outputId": "8592ea67-8097-413e-ab06-129ab73dc3ae"
      },
      "execution_count": 10,
      "outputs": [
        {
          "output_type": "execute_result",
          "data": {
            "text/plain": [
              "({Anar: [(5000, 3)], John: [(2000000, 2)], Vineet: [(670000, 1)]},\n",
              " {Anar: [(50000, 5, 3)], John: [(100000, 5, 1)]},\n",
              " 5,\n",
              " {Anar: 14.840511248388019,\n",
              "  John: 37.94960412560259,\n",
              "  Vineet: 2.7838943172431097})"
            ]
          },
          "metadata": {},
          "execution_count": 10
        }
      ]
    },
    {
      "cell_type": "code",
      "source": [
        "rewards.reward_per_tick_history"
      ],
      "metadata": {
        "colab": {
          "base_uri": "https://localhost:8080/"
        },
        "id": "WlrsMdMBMlRS",
        "outputId": "b776d953-b06e-4d28-c3e8-568b4ff81764"
      },
      "execution_count": 11,
      "outputs": [
        {
          "output_type": "execute_result",
          "data": {
            "text/plain": [
              "[{'apys_1': {}, 'stake_pool': {}, 'vault_pool': {}},\n",
              " {'apys_2': {Vineet: 116.1770447761194},\n",
              "  'stake_pool': {John: [(100000, 5, 1)]},\n",
              "  'vault_pool': {Vineet: [(670000, 1)]}},\n",
              " {'apys_3': {John: 38.24237769141653, Vineet: 2.0206934584581293},\n",
              "  'stake_pool': {John: [(100000, 5, 1)]},\n",
              "  'vault_pool': {John: [(2000000, 2)], Vineet: [(670000, 1)]}},\n",
              " {'apys_4': {Anar: 14.840511248388019,\n",
              "   John: 37.94960412560259,\n",
              "   Vineet: 2.7838943172431097},\n",
              "  'stake_pool': {Anar: [(50000, 5, 3)], John: [(100000, 5, 1)]},\n",
              "  'vault_pool': {Anar: [(5000, 3)],\n",
              "   John: [(2000000, 2)],\n",
              "   Vineet: [(670000, 1)]}},\n",
              " {'apys_5': {Anar: 14.840511248388019,\n",
              "   John: 37.94960412560259,\n",
              "   Vineet: 2.7838943172431097},\n",
              "  'stake_pool': {Anar: [(50000, 5, 3)], John: [(100000, 5, 1)]},\n",
              "  'vault_pool': {Anar: [(5000, 3)],\n",
              "   John: [(2000000, 2)],\n",
              "   Vineet: [(670000, 1)]}}]"
            ]
          },
          "metadata": {},
          "execution_count": 11
        }
      ]
    },
    {
      "cell_type": "code",
      "source": [
        ""
      ],
      "metadata": {
        "id": "lZ_gNva0MlOB"
      },
      "execution_count": 11,
      "outputs": []
    },
    {
      "cell_type": "code",
      "source": [
        ""
      ],
      "metadata": {
        "id": "Gfx9Ev41smri"
      },
      "execution_count": 11,
      "outputs": []
    },
    {
      "cell_type": "code",
      "source": [
        ""
      ],
      "metadata": {
        "id": "Ue3ljqtksmoY"
      },
      "execution_count": 11,
      "outputs": []
    },
    {
      "cell_type": "code",
      "source": [
        "common_users = list(set(rewards.vault.pool.keys()).intersection(set(rewards.stakes.pool.keys())))"
      ],
      "metadata": {
        "id": "SvFCZxKTFLWq"
      },
      "execution_count": 12,
      "outputs": []
    },
    {
      "cell_type": "code",
      "source": [
        "common_users"
      ],
      "metadata": {
        "id": "AdoUh23aFLTa",
        "colab": {
          "base_uri": "https://localhost:8080/"
        },
        "outputId": "5da63797-eb5c-40d8-9293-1b12d43fbc94"
      },
      "execution_count": 13,
      "outputs": [
        {
          "output_type": "execute_result",
          "data": {
            "text/plain": [
              "[Anar, John]"
            ]
          },
          "metadata": {},
          "execution_count": 13
        }
      ]
    },
    {
      "cell_type": "markdown",
      "source": [
        "## WIP: Setup Optimization simulation"
      ],
      "metadata": {
        "id": "h_xTpzkZgREz"
      }
    },
    {
      "cell_type": "code",
      "source": [
        "import random"
      ],
      "metadata": {
        "id": "9rX5hBOCjnv-"
      },
      "execution_count": 14,
      "outputs": []
    },
    {
      "cell_type": "markdown",
      "source": [
        "`setup_sim` sets up the simulation where for each `step` a tick is performed and then a randomly chosen user performs a randomly chosen action out of `['deposit', 'withdraw', 'stake', 'unstake']`. Then all the data is return ofr analysis."
      ],
      "metadata": {
        "id": "diP_G5NzPlq9"
      }
    },
    {
      "cell_type": "code",
      "source": [
        "def setup_sim(steps=300):\n",
        "\n",
        "  actions = ['deposit', 'withdraw', 'stake', 'unstake']\n",
        "\n",
        "  # instantiate vaults and staking pool\n",
        "  usdc_vault = Vault('USDC_GENESIS')\n",
        "  yop_stakes = Stakes()\n",
        "  rewards = Rewards(usdc_vault, yop_stakes)\n",
        "\n",
        "  action_history = []\n",
        "\n",
        "  # generate random users from population of all users\n",
        "  usernames = get_usernames()\n",
        "  user_population = [User(username) for username in usernames]\n",
        "\n",
        "  for tick in range(1, steps+1):\n",
        "    # update the tick\n",
        "    rewards.tick_fn(1)\n",
        "    # for each tick\n",
        "    #  pick a random user and a random action he takes\n",
        "    user = random.choice(user_population[:20])\n",
        "    action_name = random.choice(actions)\n",
        "\n",
        "    # print(f\"{user} {action_name}'s at tick {rewards.tick}\")\n",
        "    action_history.append({user: action_name, 'tick': rewards.tick})\n",
        "\n",
        "    # execute the action\n",
        "    if(action_name == 'deposit'):\n",
        "      # deposit: user deposits a random amount in vault\n",
        "      usdc_vault.deposit(10000, user)\n",
        "    elif (action_name == 'withdraw'):\n",
        "      balance = usdc_vault.balanceOf(user)\n",
        "      usdc_vault.withdraw(balance/8, user)\n",
        "    elif (action_name == 'stake'):\n",
        "      yop_stakes.stake(user, 1000, 12)\n",
        "    else:\n",
        "      # unstake\n",
        "      pass\n",
        "  # print(rewards.calculate_rewards())\n",
        "  return rewards, user_population, action_history"
      ],
      "metadata": {
        "id": "bhTWNvxUjns9"
      },
      "execution_count": 21,
      "outputs": []
    },
    {
      "cell_type": "code",
      "source": [
        "rewards, user_population, action_history = setup_sim()"
      ],
      "metadata": {
        "id": "NJE_z2o3jnqK"
      },
      "execution_count": 22,
      "outputs": []
    },
    {
      "cell_type": "code",
      "source": [
        "len(rewards.vault.pool.keys()), rewards.vault.tvl()"
      ],
      "metadata": {
        "colab": {
          "base_uri": "https://localhost:8080/"
        },
        "id": "mjq-LAPkjnnO",
        "outputId": "76d2dde3-e9bc-43b8-f1d9-09f9e1689cf1"
      },
      "execution_count": 23,
      "outputs": [
        {
          "output_type": "execute_result",
          "data": {
            "text/plain": [
              "(20, 605884.3994140625)"
            ]
          },
          "metadata": {},
          "execution_count": 23
        }
      ]
    },
    {
      "cell_type": "code",
      "source": [
        "rewards.tick, rewards.vault.tick, rewards.stakes.tick"
      ],
      "metadata": {
        "id": "epqytokUFLMV",
        "colab": {
          "base_uri": "https://localhost:8080/"
        },
        "outputId": "0f82b8e0-c3d4-4e99-c0f3-049aadb8129c"
      },
      "execution_count": 24,
      "outputs": [
        {
          "output_type": "execute_result",
          "data": {
            "text/plain": [
              "(300, 300, 300)"
            ]
          },
          "metadata": {},
          "execution_count": 24
        }
      ]
    },
    {
      "cell_type": "code",
      "source": [
        "len(action_history)"
      ],
      "metadata": {
        "colab": {
          "base_uri": "https://localhost:8080/"
        },
        "id": "duuLMF82Jvon",
        "outputId": "c495e04e-00a1-4325-b094-8b18fc1b4d49"
      },
      "execution_count": 25,
      "outputs": [
        {
          "output_type": "execute_result",
          "data": {
            "text/plain": [
              "300"
            ]
          },
          "metadata": {},
          "execution_count": 25
        }
      ]
    },
    {
      "cell_type": "markdown",
      "source": [
        "What actions by which users were taken in this run of the simulation ? \n",
        "\n",
        "We record this in `action_history` array. Need to figure out a way of plotting this random walk. It is a random walk because each run of the simulation will generate a random actions by randomly picked users. The idea is to average over all the runs to idetify key variables."
      ],
      "metadata": {
        "id": "0JxpxT51OzoI"
      }
    },
    {
      "cell_type": "code",
      "source": [
        "action_history[:10]"
      ],
      "metadata": {
        "colab": {
          "base_uri": "https://localhost:8080/"
        },
        "id": "bQOhT1y7JvmX",
        "outputId": "93c6f234-a6f4-4dc0-b7e3-a211573d2a2c"
      },
      "execution_count": 26,
      "outputs": [
        {
          "output_type": "execute_result",
          "data": {
            "text/plain": [
              "[{lmnopqrstuvw: 'withdraw', 'tick': 1},\n",
              " {qrstuvwx: 'withdraw', 'tick': 2},\n",
              " {XYZabscdefghijklmnopqrstuvwxyz01234567: 'withdraw', 'tick': 3},\n",
              " {qrstuvwx: 'unstake', 'tick': 4},\n",
              " {FGHIJKLMNO: 'withdraw', 'tick': 5},\n",
              " {ABCDEFGHIJKLMNOPQRSTUVWXYZabs: 'withdraw', 'tick': 6},\n",
              " {UVWXYZabscdefghijk: 'deposit', 'tick': 7},\n",
              " {NOPQRSTUVWXYZabscdefghijklmnopqrstuvwxyz012: 'withdraw', 'tick': 8},\n",
              " {FGHIJKLMNO: 'withdraw', 'tick': 9},\n",
              " {defghijkl: 'deposit', 'tick': 10}]"
            ]
          },
          "metadata": {},
          "execution_count": 26
        }
      ]
    },
    {
      "cell_type": "markdown",
      "source": [
        "What is historical apy's of users over the run of the simulation ? \n",
        "\n",
        "We have `rewards.reward_per_tick_history` array which has all this data. We need to plot this in an easy consumable way."
      ],
      "metadata": {
        "id": "6TrBGRI_OXdl"
      }
    },
    {
      "cell_type": "code",
      "source": [
        "rewards.reward_per_tick_history[-1][f'apys_{300}'], rewards.reward_per_tick_history[-2][f'apys_{299}']"
      ],
      "metadata": {
        "colab": {
          "base_uri": "https://localhost:8080/"
        },
        "id": "xiwPN1ObJvjN",
        "outputId": "c86abd8c-1652-49f9-aea0-c083f0d2c99a"
      },
      "execution_count": 32,
      "outputs": [
        {
          "output_type": "execute_result",
          "data": {
            "text/plain": [
              "({ABCDEFGHIJKLMNOP: 118.76574179889894,\n",
              "  ABCDEFGHIJKLMNOPQRSTUVWXYZabs: 236.1781324092707,\n",
              "  BCDEFGHIJKLMNOPQRSTUVWXYZab: 153.38809414918853,\n",
              "  FGHIJKLMNO: 172.5054239410632,\n",
              "  FGHIJKLMNOPQRSTUVWXYZ: 112.26507952779863,\n",
              "  JKLMNOPQRSTUVWXYZab: 127.10028797608204,\n",
              "  KLMNOPQRSTUVWXYZabs: 168.27953042403553,\n",
              "  MNOPQRSTUVWXY: 78.0273841989353,\n",
              "  NOPQRSTUVWXYZabscdefghijklmnopqrstuvwxyz012: 185.04086414257287,\n",
              "  QRSTUVWXYZabscdefghijklmnopq: 128.72545354385713,\n",
              "  STUVWXYZabscd: 92.83149891824338,\n",
              "  UVWXYZabscdefghijk: 140.88880209017373,\n",
              "  WXYZabsc: 75.10871950578824,\n",
              "  XYZabscdefghijklmnopqrstuvwxyz01234567: 104.39486636997988,\n",
              "  defghijkl: 120.23479261833833,\n",
              "  jklmnopqrst: 82.26299618882882,\n",
              "  lmnopqrstuvw: 139.01890464648335,\n",
              "  qrstuvwx: 102.71308598659006,\n",
              "  stuvwxyz012: 88.91576198262207,\n",
              "  tuvwxyz012: 153.65990516331416},\n",
              " {ABCDEFGHIJKLMNOP: 121.00958107373891,\n",
              "  ABCDEFGHIJKLMNOPQRSTUVWXYZabs: 239.71576602467155,\n",
              "  BCDEFGHIJKLMNOPQRSTUVWXYZab: 155.77457162299513,\n",
              "  FGHIJKLMNO: 175.92701832980816,\n",
              "  FGHIJKLMNOPQRSTUVWXYZ: 114.31147543614838,\n",
              "  JKLMNOPQRSTUVWXYZab: 120.39425475284595,\n",
              "  KLMNOPQRSTUVWXYZabs: 170.66383270212583,\n",
              "  MNOPQRSTUVWXY: 79.48835509285075,\n",
              "  NOPQRSTUVWXYZabscdefghijklmnopqrstuvwxyz012: 187.9342551901208,\n",
              "  QRSTUVWXYZabscdefghijklmnopq: 130.8173273011373,\n",
              "  STUVWXYZabscd: 94.28764241560916,\n",
              "  UVWXYZabscdefghijk: 143.35011089647273,\n",
              "  WXYZabsc: 76.48104235760603,\n",
              "  XYZabscdefghijklmnopqrstuvwxyz01234567: 106.6566917351184,\n",
              "  defghijkl: 122.06878116224358,\n",
              "  jklmnopqrst: 84.30708444141534,\n",
              "  lmnopqrstuvw: 140.9689494876084,\n",
              "  qrstuvwx: 104.46936102989295,\n",
              "  stuvwxyz012: 90.25297355419065,\n",
              "  tuvwxyz012: 156.05463830084238})"
            ]
          },
          "metadata": {},
          "execution_count": 32
        }
      ]
    },
    {
      "cell_type": "code",
      "source": [
        ""
      ],
      "metadata": {
        "id": "YAp3mZrZJvgu"
      },
      "execution_count": 27,
      "outputs": []
    },
    {
      "cell_type": "code",
      "source": [
        ""
      ],
      "metadata": {
        "id": "d4NE88bbJvd0"
      },
      "execution_count": null,
      "outputs": []
    },
    {
      "cell_type": "code",
      "source": [
        ""
      ],
      "metadata": {
        "id": "2KZfthnwJvYp"
      },
      "execution_count": null,
      "outputs": []
    },
    {
      "cell_type": "code",
      "source": [
        ""
      ],
      "metadata": {
        "id": "eMHAkqidJvWE"
      },
      "execution_count": null,
      "outputs": []
    },
    {
      "cell_type": "code",
      "source": [
        ""
      ],
      "metadata": {
        "id": "ubXrHAbIstBI"
      },
      "execution_count": null,
      "outputs": []
    }
  ]
}