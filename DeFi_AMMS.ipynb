{
  "nbformat": 4,
  "nbformat_minor": 0,
  "metadata": {
    "colab": {
      "name": "DeFi-AMMS.ipynb",
      "provenance": [],
      "collapsed_sections": [
        "T7Ahw7Bwv8vY",
        "JTKR5wMa0lKg"
      ],
      "authorship_tag": "ABX9TyMzXUCnq+7EyVHjB9X2EoaH",
      "include_colab_link": true
    },
    "kernelspec": {
      "name": "python3",
      "display_name": "Python 3"
    },
    "language_info": {
      "name": "python"
    }
  },
  "cells": [
    {
      "cell_type": "markdown",
      "metadata": {
        "id": "view-in-github",
        "colab_type": "text"
      },
      "source": [
        "<a href=\"https://colab.research.google.com/github/vineet-codes/defi-exploration/blob/main/DeFi_AMMS.ipynb\" target=\"_parent\"><img src=\"https://colab.research.google.com/assets/colab-badge.svg\" alt=\"Open In Colab\"/></a>"
      ]
    },
    {
      "cell_type": "markdown",
      "metadata": {
        "id": "T7Ahw7Bwv8vY"
      },
      "source": [
        "# Imports"
      ]
    },
    {
      "cell_type": "code",
      "metadata": {
        "id": "Bu-T4k16v_8c"
      },
      "source": [
        "import matplotlib.pyplot as plt\n",
        "plt.style.use('ggplot')"
      ],
      "execution_count": null,
      "outputs": []
    },
    {
      "cell_type": "code",
      "metadata": {
        "id": "ajHtYgldv_rX"
      },
      "source": [
        "import numpy as np"
      ],
      "execution_count": null,
      "outputs": []
    },
    {
      "cell_type": "markdown",
      "metadata": {
        "id": "JTKR5wMa0lKg"
      },
      "source": [
        "# Theory"
      ]
    },
    {
      "cell_type": "markdown",
      "metadata": {
        "id": "dr1RRw6ELcpO"
      },
      "source": [
        "Research of risks in DeFi protocols:\n",
        "\n",
        "https://gauntlet.network/research/"
      ]
    },
    {
      "cell_type": "markdown",
      "metadata": {
        "id": "8yAAkbuS0ZSA"
      },
      "source": [
        "## Decentralised Exchanges or DEX's\n",
        "\n",
        "The core idea behind operating dexes is to let the smart contract be the market maker. The most popular dex's implement some variants of automated market makers. Most popular implementation of AMM's use Const Product (CP) AMM's. CP's use the invariant $x.y=k$, $x$ is the quantity of asset $X$ and $y$ is the quantity of asset $Y$. Core idea is the concept of `liquidity pools`. A pool is a collection of 2(or more) assets.\n",
        "\n",
        "Two main type of actors in a liquidity pool\n",
        "\n",
        "- Alice (a.k.a whale): Alice provides her tokens as liquidity to the pool.\n",
        "- Bob (a.k.a trader): Bob trades between the token and also pays fees to alice for being able to transact in the pool.\n",
        "\n",
        "## Pricing rules for CP AMM's\n",
        "\n",
        "> Price is the ratio between assets paid and assets recieved\n",
        "\n",
        "For a token pair, two types of operations can be performed. We will only discuss **Buying $X$ for $Y$**, for other case Selling **$X$ for $Y$** reader is adviced to derive on their own as an exercise.\n",
        "\n",
        "1. **Buying $X$ for $Y$**\n",
        "\n",
        "To derive the prices, we start with invariant rule. We note that, even after the trade, the invariant should hold true. Let $x$ be the initial #$X$ tokens and $y$ be the #$Y$ tokens. Let $\\Delta x$ be the $X$ tokens that Bob buys in exchange for $\\Delta y$ tokens of asset $Y$. After the trade, the invariant reads as follows,\n",
        "\n",
        "$$(x-\\Delta x).(y + \\Phi . \\Delta y) = k$$\n",
        "\n",
        "where $(1 - \\Phi)$ is the percentage fees paid to liquidity providers and where $\\Delta x > 0$ and $\\Delta y > 0$\n",
        "\n",
        "Solving for $\\Delta y$, we get,\n",
        "\n",
        "$$\\Delta y = \\dfrac{1}{\\Phi} . \\dfrac {y.\\Delta x}{x - \\Delta x}$$\n",
        "\n",
        "As we can see, in order for Bob to buy $\\Delta x$ tokens, he has to provide $\\Delta y$ tokens which is equal to $\\frac{1}{\\Phi} . \\frac {y.\\Delta x}{x - \\Delta x}$ in terms of $\\Delta x$.\n",
        "\n",
        "So, re-ordering previous equation, we get\n",
        "\n",
        "$$\\dfrac{\\Delta y}{\\Delta x} = \\dfrac{1}{\\Phi} . \\dfrac {y}{x - \\Delta x}$$\n",
        "\n",
        "**Observation 1: Pricing depends on the size of the trade, $\\Delta x$,**\n",
        "\n",
        "in the limit as $\\Delta x$ approaches 0:\n",
        "\n",
        "$$ \\lim\\_{\\Delta x \\to 0} \\dfrac{\\Delta y}{\\Delta x}= \\frac{1}{\\Phi} . \\frac{y}{x}$$\n",
        "\n",
        "This is called the marginal price\n",
        "\n",
        "$$M_{p} = | \\dfrac{y}{x} |$$\n",
        "\n",
        "**Observation 2: Pricing depends on the size of $x$ and $y$ as $k$**\n",
        "\n",
        "as $k$ increases, the effective price of the AMM is less sensetive to $\\Delta x$\n",
        "\n",
        "### Slippage in AMM's\n",
        "\n",
        "Slippage protction\n",
        "\n",
        "## Incentives for liquidity providers\n",
        "\n",
        "Lets assume Alice deposits $10ETH$ and $12DAI$ of liquidity, which implies\n",
        "\n",
        "$$M_p = 1.2$$\n",
        "\n",
        "where $M_p$ denotes marginal price.\n",
        "\n",
        "Alice waits for a month, during which traders frive $\\$700$ worth of volume through the AMM. At the end of the month, Alice withdraws her $ETH$ and $DAI$. By that time, the marginal price of ETH has gone up by $4x$ [where do we get this number in reality]. the marginal price is now\n",
        "\n",
        "$$M_p^{'}=4.2$$\n",
        "\n",
        "**What is Alice's return ?**\n",
        "\n",
        "We assume: $1-\\Phi = 0.003$\n",
        "\n",
        "- Return from liquidity provider fees (where $V$ is total dollar worth of volume)\n",
        "\n",
        "$$R_V = V.(1 - \\Phi)$$\n",
        "\n",
        "- Baseline return $R_B$\n",
        "\n",
        "$$R_B = x^{'}M_p^{'} + y^{'}$$\n",
        "\n",
        "So total Alice returns is\n",
        "\n",
        "$$R = R_B + R_V$$\n",
        "\n",
        "$$R = x^{'}M_p^{'} + y^{'} + V.(1 - \\Phi)$$\n",
        "\n",
        "Her profit, in percentage terms is given by,\n",
        "\n",
        "$$P_L = \\dfrac{R}{R_B} - 1 = \\dfrac{x^{'}M_p^{'} + y^{'} + V.(1-\\Phi)}{xM_p^{'} + y} - 1$$\n",
        "\n",
        "Recall:\n",
        "\n",
        "$$x.y=k$$\n",
        "and\n",
        "$$M_p = \\frac{y}{x}$$\n",
        "thus,\n",
        "$$x = \\sqrt{\\frac{k}{M_p}}$$\n",
        "and\n",
        "$$y = \\sqrt{k.M_p}$$\n",
        "Also,\n",
        "$$x^{'} = \\sqrt{\\frac{k}{M_p^{'}}}$$\n",
        "\n",
        "$$y^{'} = \\sqrt{k.M_p^{'}}$$\n",
        "\n",
        "Finally let,\n",
        "\n",
        "$$M_p^{'} = r.M_p$$\n",
        "\n",
        "We can simplify to have\n",
        "\n",
        "$$P_L = \\frac{2*\\sqrt{r}}{r + 1} + \\dfrac{V*(1 - \\Phi)}{r*\\sqrt{k*M_p}} - 1$$\n",
        "\n",
        "How do we plot this ?\n",
        "\n",
        "P/L vs Price change\n",
        "P/L vs trading volume\n",
        "\n",
        "### Impremanent Loss\n",
        "\n",
        "### AMM liquidity mining\n",
        "\n",
        "## Pegged / stablecoin swap\n",
        "\n",
        "## AMM Arbitrage\n",
        "\n",
        "## DEX Aggregators\n",
        "\n",
        "## Detecting trading opportunities in DeFi protocols\n",
        "\n",
        "# References\n",
        "\n",
        "1. [CS251 | DEXES](./dexes.pdf)\n",
        "2. [DeFi MOOC | AMMS](./amms.pdf)\n",
        "3. [SoK: Decentralized Exchanges (DEX) with Automated Market Maker (AMM) protocols](https://berkeley-defi.github.io/assets/material/DEX%20with%20AMM%20Protocols.pdf)\n",
        "4. [An analysis of Uniswap markets](https://berkeley-defi.github.io/assets/material/Analysis%20of%20Uniswap%20Markets.pdf)\n",
        "5. [A theory of Automated Market Makers in DeFi](https://berkeley-defi.github.io/assets/material/Theory%20of%20AMM%20in%20DeFi.pdf)\n",
        "6. Uniswap\n",
        "   - [Uniswap v2 Core](https://uniswap.org/whitepaper.pdf)\n",
        "   - [Uniswap v3 Core](https://berkeley-defi.github.io/assets/material/Uniswap%20v3%20Core.pdf)\n",
        "7. Curve Finance\n",
        "   - [Automatic market-making with dynamic peg](https://curve.fi/files/crypto-pools-paper.pdf)\n",
        "   - [StableSwap - efficient mechanism for Stablecoin liquidity](https://berkeley-defi.github.io/assets/material/StableSwap.pdf)\n"
      ]
    },
    {
      "cell_type": "markdown",
      "metadata": {
        "id": "VrjONxZauaJY"
      },
      "source": [
        "# Decentralized Exchanges and Automated Market Makers"
      ]
    },
    {
      "cell_type": "markdown",
      "source": [
        "[Designing an Exchange](https://twitter.com/FabiusMercurius/status/1452349285865984000)\n",
        "\n",
        "[History of Options](https://twitter.com/FabiusMercurius/status/1427473265719578624?s=20)\n",
        "\n",
        "[Properly measuring Returns](https://twitter.com/FabiusMercurius/status/1429667325398114306?s=20)\n",
        "\n",
        "[Crypto Market Map](https://twitter.com/FabiusMercurius/status/1449801581394677760)\n",
        "\n",
        "[Yeild Farming](https://twitter.com/FabiusMercurius/status/1454998835743256576?s=20)\n",
        "\n",
        "[Where does yeild comes from](https://twitter.com/FabiusMercurius/status/1460437015921446916?s=20)\n",
        "\n",
        "[Cross MArgining](https://twitter.com/FabiusMercurius/status/1467185503065624577?s=20)"
      ],
      "metadata": {
        "id": "dRNedfBQuNIh"
      }
    },
    {
      "cell_type": "markdown",
      "metadata": {
        "id": "CEpc4n0puq14"
      },
      "source": [
        "In this notebook we will model decentralised exchanges which implement a constant product automated market maker. Central to the idea of automated market maker is the concept of liquidity pools. It differs from traditional order book implementation of market makers. "
      ]
    },
    {
      "cell_type": "code",
      "metadata": {
        "id": "cPTNbufy1s8K",
        "colab": {
          "base_uri": "https://localhost:8080/",
          "height": 354
        },
        "outputId": "22f5ffb6-b146-4a06-808f-f0b4c498914e"
      },
      "source": [
        "class Token():\n",
        "\n",
        "  def __init__(self):\n",
        "    pass\n",
        "\n",
        "class CP_AMM():\n",
        "\n",
        "  def __init__(self, x=4, y=30):\n",
        "\n",
        "    self.liquidity_pool = {'x': x, 'y': y}\n",
        "    self.k = x * y # ap amm invariant invocation\n",
        "\n",
        "  def _check_invariant(self, x, y):\n",
        "    assert self.k == x * y\n",
        "\n",
        "\n",
        "  def deposit_liquidity(self, amt):\n",
        "    pass\n",
        "\n",
        "  def generate_market_data(self, liquidity_pool, step=1):\n",
        "\n",
        "    xs = np.linspace(1, liquidity_pool['x']+70, 100)\n",
        "    ys = []\n",
        "    for x in xs:\n",
        "      y = self.k / x\n",
        "      ys.append(y)\n",
        "    return xs, ys\n",
        "\n",
        "  def trade_token(self, a, B, amt):\n",
        "    pass\n",
        "\n",
        "  def _plot_market_curve(self, ax):\n",
        "    xs, ys = self.generate_market_data(self.liquidity_pool, step=1)\n",
        "\n",
        "    x = self.liquidity_pool['x']\n",
        "    y= self.liquidity_pool['y']\n",
        "    ax.set_title(f'CP AMM | x.y=k | x={x}, y={y},k=x.y={x*y}')\n",
        "    ax.set_xlabel('total assets of Token X')\n",
        "    ax.set_ylabel('total assets of Token Y')\n",
        "    ax.plot(xs, ys)\n",
        "\n",
        "  def plot_market_state(self):\n",
        "    \n",
        "    fig, ax = plt.subplots(nrows=1, ncols=1, figsize=(15,5))\n",
        "    \n",
        "    # plot market curve\n",
        "    self._plot_market_curve(ax)\n",
        "\n",
        "    ## plot points on the curve\n",
        "    x = self.liquidity_pool['x']\n",
        "\n",
        "    # # initial market postion\n",
        "    # ax.plot(x, self.k / x, 'bo')\n",
        "\n",
        "    # # another possible market possition\n",
        "    # c=2\n",
        "    # ax.plot(x+c, self.k/(x+c), 'ko')\n",
        "\n",
        "    # # another possible market possition\n",
        "    # c=5\n",
        "    # ax.plot(x+c, self.k/(x+c), 'co')\n",
        "    [ax.plot(x+i, self.k/(x+i), 'co') for i in range(0,10)]\n",
        "\n",
        "CP_AMM().plot_market_state()"
      ],
      "execution_count": null,
      "outputs": [
        {
          "output_type": "display_data",
          "data": {
            "image/png": "[encoded data removed]",
            "text/plain": [
              "<Figure size 1080x360 with 1 Axes>"
            ]
          },
          "metadata": {
            "needs_background": "light"
          }
        }
      ]
    },
    {
      "cell_type": "code",
      "metadata": {
        "id": "HC2X0uhO12Jj"
      },
      "source": [
        ""
      ],
      "execution_count": null,
      "outputs": []
    },
    {
      "cell_type": "code",
      "source": [
        ""
      ],
      "metadata": {
        "id": "B-IfZD1PE1Fe"
      },
      "execution_count": null,
      "outputs": []
    },
    {
      "cell_type": "code",
      "source": [
        ""
      ],
      "metadata": {
        "id": "jbhUNa44E0_t"
      },
      "execution_count": null,
      "outputs": []
    },
    {
      "cell_type": "code",
      "source": [
        ""
      ],
      "metadata": {
        "id": "s4udSl6NE02P"
      },
      "execution_count": null,
      "outputs": []
    },
    {
      "cell_type": "markdown",
      "metadata": {
        "id": "pXUXkDt012GV"
      },
      "source": [
        "## Research ideas"
      ]
    },
    {
      "cell_type": "markdown",
      "metadata": {
        "id": "UzoUp0re7tng"
      },
      "source": [
        "Build agent based models to study dexes in depth and their behaviour.\n",
        "\n",
        "https://jobs.lever.co/gauntlet/27da29ce-16d2-458f-9269-f997d6240ac0\n",
        "\n",
        "https://berkeley-defi.github.io/assets/material/Analysis%20of%20Uniswap%20Markets.pdf\n",
        "\n",
        "https://mesa.readthedocs.io/en/latest/"
      ]
    },
    {
      "cell_type": "code",
      "metadata": {
        "id": "JoL-cIebQXKe"
      },
      "source": [
        ""
      ],
      "execution_count": null,
      "outputs": []
    }
  ]
}