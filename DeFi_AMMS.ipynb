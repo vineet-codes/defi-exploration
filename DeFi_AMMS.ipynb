{
  "nbformat": 4,
  "nbformat_minor": 0,
  "metadata": {
    "colab": {
      "name": "DeFi-AMMS.ipynb",
      "provenance": [],
      "collapsed_sections": [
        "JTKR5wMa0lKg"
      ],
      "authorship_tag": "ABX9TyP6w1k3eXc2fRLxsCTKHtNB",
      "include_colab_link": true
    },
    "kernelspec": {
      "name": "python3",
      "display_name": "Python 3"
    },
    "language_info": {
      "name": "python"
    }
  },
  "cells": [
    {
      "cell_type": "markdown",
      "metadata": {
        "id": "view-in-github",
        "colab_type": "text"
      },
      "source": [
        "<a href=\"https://colab.research.google.com/github/vineet-codes/defi-exploration/blob/main/DeFi_AMMS.ipynb\" target=\"_parent\"><img src=\"https://colab.research.google.com/assets/colab-badge.svg\" alt=\"Open In Colab\"/></a>"
      ]
    },
    {
      "cell_type": "markdown",
      "metadata": {
        "id": "T7Ahw7Bwv8vY"
      },
      "source": [
        "# Imports"
      ]
    },
    {
      "cell_type": "code",
      "metadata": {
        "id": "Bu-T4k16v_8c"
      },
      "source": [
        "import matplotlib.pyplot as plt\n",
        "plt.style.use('ggplot')"
      ],
      "execution_count": 1,
      "outputs": []
    },
    {
      "cell_type": "code",
      "metadata": {
        "id": "ajHtYgldv_rX"
      },
      "source": [
        "import numpy as np"
      ],
      "execution_count": 2,
      "outputs": []
    },
    {
      "cell_type": "markdown",
      "metadata": {
        "id": "JTKR5wMa0lKg"
      },
      "source": [
        "# Notes"
      ]
    },
    {
      "cell_type": "markdown",
      "metadata": {
        "id": "8yAAkbuS0ZSA"
      },
      "source": [
        "## Decentralised Exchanges or DEX's\n",
        "\n",
        "The core idea behind operating dexes is to let the smart contract be the market maker. The most popular dex's implement some variants of automated market makers. Most popular implementation of AMM's use Const Product (CP) AMM's. CP's use the invariant $x.y=k$, $x$ is the quantity of asset $X$ and $y$ is the quantity of asset $Y$. Core idea is the concept of `liquidity pools`. A pool is a collection of 2(or more) assets.\n",
        "\n",
        "Two main type of actors in a liquidity pool\n",
        "\n",
        "- Alice (a.k.a whale): Alice provides her tokens as liquidity to the pool.\n",
        "- Bob (a.k.a trader): Bob trades between the token and also pays fees to alice for being able to transact in the pool.\n",
        "\n",
        "## Pricing rules for CP AMM's\n",
        "\n",
        "> Price is the ratio between assets paid and assets recieved\n",
        "\n",
        "For a token pair, two types of operations can be performed. We will only discuss **Buying $X$ for $Y$**, for other case Selling **$X$ for $Y$** reader is adviced to derive on their own as an exercise.\n",
        "\n",
        "1. **Buying $X$ for $Y$**\n",
        "\n",
        "To derive the prices, we start with invariant rule. We note that, even after the trade, the invariant should hold true. Let $x$ be the initial #$X$ tokens and $y$ be the #$Y$ tokens. Let $\\Delta x$ be the $X$ tokens that Bob buys in exchange for $\\Delta y$ tokens of asset $Y$. After the trade, the invariant reads as follows,\n",
        "\n",
        "$$(x-\\Delta x).(y + \\Phi . \\Delta y) = k$$\n",
        "\n",
        "where $(1 - \\Phi)$ is the percentage fees paid to liquidity providers and where $\\Delta x > 0$ and $\\Delta y > 0$\n",
        "\n",
        "Solving for $\\Delta y$, we get,\n",
        "\n",
        "$$\\Delta y = \\dfrac{1}{\\Phi} . \\dfrac {y.\\Delta x}{x - \\Delta x}$$\n",
        "\n",
        "As we can see, in order for Bob to buy $\\Delta x$ tokens, he has to provide $\\Delta y$ tokens which is equal to $\\frac{1}{\\Phi} . \\frac {y.\\Delta x}{x - \\Delta x}$ in terms of $\\Delta x$.\n",
        "\n",
        "So, re-ordering previous equation, we get\n",
        "\n",
        "$$\\dfrac{\\Delta y}{\\Delta x} = \\dfrac{1}{\\Phi} . \\dfrac {y}{x - \\Delta x}$$\n",
        "\n",
        "**Observation 1: Pricing depends on the size of the trade, $\\Delta x$,**\n",
        "\n",
        "in the limit as $\\Delta x$ approaches 0:\n",
        "\n",
        "$$ \\lim\\_{\\Delta x \\to 0} \\dfrac{\\Delta y}{\\Delta x}= \\frac{1}{\\Phi} . \\frac{y}{x}$$\n",
        "\n",
        "This is called the marginal price\n",
        "\n",
        "$$M_{p} = | \\dfrac{y}{x} |$$\n",
        "\n",
        "**Observation 2: Pricing depends on the size of $x$ and $y$ as $k$**\n",
        "\n",
        "as $k$ increases, the effective price of the AMM is less sensetive to $\\Delta x$\n",
        "\n",
        "### Slippage in AMM's\n",
        "\n",
        "Slippage protction\n",
        "\n",
        "## Incentives for liquidity providers\n",
        "\n",
        "Lets assume Alice deposits $10ETH$ and $12DAI$ of liquidity, which implies\n",
        "\n",
        "$$M_p = 1.2$$\n",
        "\n",
        "where $M_p$ denotes marginal price.\n",
        "\n",
        "Alice waits for a month, during which traders frive $\\$700$ worth of volume through the AMM. At the end of the month, Alice withdraws her $ETH$ and $DAI$. By that time, the marginal price of ETH has gone up by $4x$ [where do we get this number in reality]. the marginal price is now\n",
        "\n",
        "$$M_p^{'}=4.2$$\n",
        "\n",
        "**What is Alice's return ?**\n",
        "\n",
        "We assume: $1-\\Phi = 0.003$\n",
        "\n",
        "- Return from liquidity provider fees (where $V$ is total dollar worth of volume)\n",
        "\n",
        "$$R_V = V.(1 - \\Phi)$$\n",
        "\n",
        "- Baseline return $R_B$\n",
        "\n",
        "$$R_B = x^{'}M_p^{'} + y^{'}$$\n",
        "\n",
        "So total Alice returns is\n",
        "\n",
        "$$R = R_B + R_V$$\n",
        "\n",
        "$$R = x^{'}M_p^{'} + y^{'} + V.(1 - \\Phi)$$\n",
        "\n",
        "Her profit, in percentage terms is given by,\n",
        "\n",
        "$$P_L = \\dfrac{R}{R_B} - 1 = \\dfrac{x^{'}M_p^{'} + y^{'} + V.(1-\\Phi)}{xM_p^{'} + y} - 1$$\n",
        "\n",
        "Recall:\n",
        "\n",
        "$$x.y=k$$\n",
        "and\n",
        "$$M_p = \\frac{y}{x}$$\n",
        "thus,\n",
        "$$x = \\sqrt{\\frac{k}{M_p}}$$\n",
        "and\n",
        "$$y = \\sqrt{k.M_p}$$\n",
        "Also,\n",
        "$$x^{'} = \\sqrt{\\frac{k}{M_p^{'}}}$$\n",
        "\n",
        "$$y^{'} = \\sqrt{k.M_p^{'}}$$\n",
        "\n",
        "Finally let,\n",
        "\n",
        "$$M_p^{'} = r.M_p$$\n",
        "\n",
        "We can simplify to have\n",
        "\n",
        "$$P_L = \\frac{2*\\sqrt{r}}{r + 1} + \\dfrac{V*(1 - \\Phi)}{r*\\sqrt{k*M_p}} - 1$$\n",
        "\n",
        "How do we plot this ?\n",
        "\n",
        "P/L vs Price change\n",
        "P/L vs trading volume\n",
        "\n",
        "### Impremanent Loss\n",
        "\n",
        "### AMM liquidity mining\n",
        "\n",
        "## Pegged / stablecoin swap\n",
        "\n",
        "## AMM Arbitrage\n",
        "\n",
        "## DEX Aggregators\n",
        "\n",
        "## Detecting trading opportunities in DeFi protocols\n",
        "\n",
        "# References\n",
        "\n",
        "1. [CS251 | DEXES](./dexes.pdf)\n",
        "2. [DeFi MOOC | AMMS](./amms.pdf)\n",
        "3. [SoK: Decentralized Exchanges (DEX) with Automated Market Maker (AMM) protocols](https://berkeley-defi.github.io/assets/material/DEX%20with%20AMM%20Protocols.pdf)\n",
        "4. [An analysis of Uniswap markets](https://berkeley-defi.github.io/assets/material/Analysis%20of%20Uniswap%20Markets.pdf)\n",
        "5. [A theory of Automated Market Makers in DeFi](https://berkeley-defi.github.io/assets/material/Theory%20of%20AMM%20in%20DeFi.pdf)\n",
        "6. Uniswap\n",
        "   - [Uniswap v2 Core](https://uniswap.org/whitepaper.pdf)\n",
        "   - [Uniswap v3 Core](https://berkeley-defi.github.io/assets/material/Uniswap%20v3%20Core.pdf)\n",
        "7. Curve Finance\n",
        "   - [Automatic market-making with dynamic peg](https://curve.fi/files/crypto-pools-paper.pdf)\n",
        "   - [StableSwap - efficient mechanism for Stablecoin liquidity](https://berkeley-defi.github.io/assets/material/StableSwap.pdf)\n"
      ]
    },
    {
      "cell_type": "markdown",
      "metadata": {
        "id": "VrjONxZauaJY"
      },
      "source": [
        "# Decentralized Exchanges and Automated Market Makers"
      ]
    },
    {
      "cell_type": "markdown",
      "metadata": {
        "id": "CEpc4n0puq14"
      },
      "source": [
        "In this notebook we will model decentralised exchanges which implement a constant product automated market maker. Central to the idea of automated market maker is the concept of liquidity pools. It differs from traditional order book implementation of market makers. "
      ]
    },
    {
      "cell_type": "code",
      "metadata": {
        "id": "KcHYrxRWvF0P"
      },
      "source": [
        "def create_market(x=40, y=30):\n",
        "\n",
        "  liquidity_pool = {'x': x, 'y': x}\n",
        "  # market constant k \n",
        "  k = liquidity_pool['x'] * liquidity_pool['y']\n",
        "  return liquidity_pool, k\n",
        "\n",
        "def generate_market_data(liquidity_pool, step=1):\n",
        "\n",
        "  xs = np.linspace(1, liquidity_pool['x'], 1000)\n",
        "  ys = []\n",
        "  for x in xs:\n",
        "    y = k / x\n",
        "    ys.append(y)\n",
        "  return xs, ys"
      ],
      "execution_count": 3,
      "outputs": []
    },
    {
      "cell_type": "code",
      "metadata": {
        "id": "cPTNbufy1s8K"
      },
      "source": [
        "class CP_AMM():\n",
        "\n",
        "  def __init__(self, x=10000, y=20000):\n",
        "    num_tokens_X = x\n",
        "    num_tokens_Y = y\n",
        "\n",
        "  def deposit_liquidity(self, amt):\n",
        "    pass\n",
        "\n",
        "  def trade_token(self, a, B, amt):\n",
        "    pass\n",
        "\n",
        "  def plot_market_curve(self):\n",
        "    pass"
      ],
      "execution_count": 19,
      "outputs": []
    },
    {
      "cell_type": "code",
      "metadata": {
        "colab": {
          "base_uri": "https://localhost:8080/"
        },
        "id": "HC2X0uhO12Jj",
        "outputId": "e42f13eb-6d19-40ba-b17c-393ca9de987f"
      },
      "source": [
        "CP_AMM()"
      ],
      "execution_count": 20,
      "outputs": [
        {
          "output_type": "stream",
          "name": "stdout",
          "text": [
            "Hello World\n"
          ]
        },
        {
          "output_type": "execute_result",
          "data": {
            "text/plain": [
              "<__main__.CP_AMM at 0x7f7298f9b490>"
            ]
          },
          "metadata": {},
          "execution_count": 20
        }
      ]
    },
    {
      "cell_type": "code",
      "metadata": {
        "id": "pXUXkDt012GV"
      },
      "source": [
        ""
      ],
      "execution_count": null,
      "outputs": []
    },
    {
      "cell_type": "code",
      "metadata": {
        "id": "Cj2zlIzx32-N"
      },
      "source": [
        "def plot_market(xs, ys):\n",
        "  fig, axes = plt.subplots(nrows=1, ncols=1, figsize=(15,5))\n",
        "  # axes.set(xlim=(0,35), ylim=(0,35))\n",
        "  x = liquidity_pool['x']\n",
        "  y= liquidity_pool['y']\n",
        "  axes.set_title(f'CP AMM | x.y=k | x={x}, y={y},k=x.y={x*y}')\n",
        "  axes.plot(xs, ys)"
      ],
      "execution_count": 15,
      "outputs": []
    },
    {
      "cell_type": "code",
      "metadata": {
        "colab": {
          "base_uri": "https://localhost:8080/",
          "height": 337
        },
        "id": "hU6EI7ALzt4p",
        "outputId": "89eef3ac-6846-46d3-e479-07007479ff63"
      },
      "source": [
        "liquidity_pool, k = create_market()\n",
        "xs, ys = generate_market_data(liquidity_pool)\n",
        "plot_market(xs, ys)"
      ],
      "execution_count": 16,
      "outputs": [
        {
          "output_type": "display_data",
          "data": {
            "image/png": "[encoded data removed]",
            "text/plain": [
              "<Figure size 1080x360 with 1 Axes>"
            ]
          },
          "metadata": {
            "needs_background": "light"
          }
        }
      ]
    },
    {
      "cell_type": "code",
      "metadata": {
        "id": "UzoUp0re7tng"
      },
      "source": [
        ""
      ],
      "execution_count": null,
      "outputs": []
    }
  ]
}