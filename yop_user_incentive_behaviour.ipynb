{
  "nbformat": 4,
  "nbformat_minor": 0,
  "metadata": {
    "colab": {
      "name": "yop_user_incentive_behaviour.ipynb",
      "provenance": [],
      "authorship_tag": "ABX9TyP1IqlLUbFfN/c3qMge0rpP",
      "include_colab_link": true
    },
    "kernelspec": {
      "name": "python3",
      "display_name": "Python 3"
    },
    "language_info": {
      "name": "python"
    }
  },
  "cells": [
    {
      "cell_type": "markdown",
      "metadata": {
        "id": "view-in-github",
        "colab_type": "text"
      },
      "source": [
        "<a href=\"https://colab.research.google.com/github/vineet-codes/defi-exploration/blob/main/yop_user_incentive_behaviour.ipynb\" target=\"_parent\"><img src=\"https://colab.research.google.com/assets/colab-badge.svg\" alt=\"Open In Colab\"/></a>"
      ]
    },
    {
      "cell_type": "code",
      "source": [
        "import matplotlib.pyplot as plt"
      ],
      "metadata": {
        "id": "q5xXyPzRjXk4"
      },
      "execution_count": 90,
      "outputs": []
    },
    {
      "cell_type": "code",
      "execution_count": 91,
      "metadata": {
        "id": "x-Uu1I_pcRdA"
      },
      "outputs": [],
      "source": [
        "YOP_staked = 10_000\n",
        "staking_duration = 5\n",
        "vault_deposit_value = 30_000\n",
        "total_YOP_staked_depositors = 250_000\n",
        "avg_duration_locked = 1\n",
        "TVL_vaults = 200_000"
      ]
    },
    {
      "cell_type": "code",
      "source": [
        "def boosting_multiplier(YOP_staked, staking_duration, vault_deposit_value, total_YOP_staked_depositors, avg_duration_locked, TVL_vaults):\n",
        "  r = ((YOP_staked * staking_duration)/(total_YOP_staked_depositors * avg_duration_locked)) / (vault_deposit_value / TVL_vaults)\n",
        "\n",
        "  f = min(1 + r, 3)  # emmision_rate * user_val\n",
        "  return f"
      ],
      "metadata": {
        "id": "R8N5PczQc2gz"
      },
      "execution_count": 92,
      "outputs": []
    },
    {
      "cell_type": "code",
      "source": [
        "boosting_multiplier(YOP_staked, staking_duration, vault_deposit_value, total_YOP_staked_depositors, avg_duration_locked, TVL_vaults)"
      ],
      "metadata": {
        "colab": {
          "base_uri": "https://localhost:8080/"
        },
        "id": "a_XMo2M_d627",
        "outputId": "d2c0177d-115c-4bd4-c8e0-a176653655c5"
      },
      "execution_count": 93,
      "outputs": [
        {
          "output_type": "execute_result",
          "data": {
            "text/plain": [
              "2.3333333333333335"
            ]
          },
          "metadata": {},
          "execution_count": 93
        }
      ]
    },
    {
      "cell_type": "code",
      "source": [
        "# what happens if TVL increases but the staking pool reamins the same"
      ],
      "metadata": {
        "id": "ogvxJ7ITh-fR"
      },
      "execution_count": 94,
      "outputs": []
    },
    {
      "cell_type": "code",
      "source": [
        "def generate_tvl_increase_data():\n",
        "  data = [(YOP_staked, staking_duration, vault_deposit_value, total_YOP_staked_depositors, avg_duration_locked, TVL_vaults+ i*1000 ) for i in range(1000)]\n",
        "  return data"
      ],
      "metadata": {
        "id": "cXzrK98Jh-cg"
      },
      "execution_count": 95,
      "outputs": []
    },
    {
      "cell_type": "code",
      "source": [
        "d = generate_tvl_increase_data()\n",
        "plt.plot([boosting_multiplier(*x) for x in d])"
      ],
      "metadata": {
        "colab": {
          "base_uri": "https://localhost:8080/",
          "height": 283
        },
        "id": "YCZgfoT2h-Zd",
        "outputId": "e0f31754-2706-4bab-f457-1e76b39084b2"
      },
      "execution_count": 96,
      "outputs": [
        {
          "output_type": "execute_result",
          "data": {
            "text/plain": [
              "[<matplotlib.lines.Line2D at 0x7f594d405b50>]"
            ]
          },
          "metadata": {},
          "execution_count": 96
        },
        {
          "output_type": "display_data",
          "data": {
            "image/png": "[encoded data removed]",
            "text/plain": [
              "<Figure size 432x288 with 1 Axes>"
            ]
          },
          "metadata": {
            "needs_background": "light"
          }
        }
      ]
    },
    {
      "cell_type": "code",
      "source": [
        "# what if its the same user that is increasing his deposits in vaults"
      ],
      "metadata": {
        "id": "uSTBZGMEh-Wq"
      },
      "execution_count": 97,
      "outputs": []
    },
    {
      "cell_type": "code",
      "source": [
        "def generate_tvl_increase_by_same_user_data():\n",
        "  data = [(YOP_staked, staking_duration, vault_deposit_value+ i*1000, total_YOP_staked_depositors, avg_duration_locked, TVL_vaults+ i*1000 ) for i in range(1000)]\n",
        "  return data"
      ],
      "metadata": {
        "id": "xyKM-jnQh-Tf"
      },
      "execution_count": 98,
      "outputs": []
    },
    {
      "cell_type": "code",
      "source": [
        "d = generate_tvl_increase_by_same_user_data()\n",
        "plt.plot([boosting_multiplier(*x) for x in d])"
      ],
      "metadata": {
        "colab": {
          "base_uri": "https://localhost:8080/",
          "height": 283
        },
        "id": "GKxMq9rMh-IR",
        "outputId": "b2bfa688-9dc7-4663-edc5-7323da076cf6"
      },
      "execution_count": 99,
      "outputs": [
        {
          "output_type": "execute_result",
          "data": {
            "text/plain": [
              "[<matplotlib.lines.Line2D at 0x7f594d489fd0>]"
            ]
          },
          "metadata": {},
          "execution_count": 99
        },
        {
          "output_type": "display_data",
          "data": {
            "image/png": "[encoded data removed]",
            "text/plain": [
              "<Figure size 432x288 with 1 Axes>"
            ]
          },
          "metadata": {
            "needs_background": "light"
          }
        }
      ]
    },
    {
      "cell_type": "markdown",
      "source": [
        "What happens if user starts gaining more staking pool share "
      ],
      "metadata": {
        "id": "iZjJFeMlkzvA"
      }
    },
    {
      "cell_type": "code",
      "source": [
        "def user_stake_pool_share_increases_data():\n",
        "  data = [(YOP_staked + i*10, staking_duration, vault_deposit_value, total_YOP_staked_depositors, avg_duration_locked, TVL_vaults ) for i in range(1000)]\n",
        "  return data"
      ],
      "metadata": {
        "id": "tt1R9t-fd7cN"
      },
      "execution_count": 100,
      "outputs": []
    },
    {
      "cell_type": "code",
      "source": [
        "d = user_stake_pool_share_increases_data()\n",
        "plt.plot([boosting_multiplier(*x) for x in d])"
      ],
      "metadata": {
        "colab": {
          "base_uri": "https://localhost:8080/",
          "height": 283
        },
        "id": "2A_itTwslKLi",
        "outputId": "90218320-b6f0-4b3d-9cb2-086044ef31e1"
      },
      "execution_count": 101,
      "outputs": [
        {
          "output_type": "execute_result",
          "data": {
            "text/plain": [
              "[<matplotlib.lines.Line2D at 0x7f594d3958d0>]"
            ]
          },
          "metadata": {},
          "execution_count": 101
        },
        {
          "output_type": "display_data",
          "data": {
            "image/png": "[encoded data removed]",
            "text/plain": [
              "<Figure size 432x288 with 1 Axes>"
            ]
          },
          "metadata": {
            "needs_background": "light"
          }
        }
      ]
    },
    {
      "cell_type": "markdown",
      "source": [
        ""
      ],
      "metadata": {
        "id": "mCYv2HkymHyS"
      }
    },
    {
      "cell_type": "markdown",
      "source": [
        "How much user needs to stake for depositing additional X$ in vaults such that his boost percentage remains same ? \n",
        "\n",
        "For simplicity, lets assume he gains pool share"
      ],
      "metadata": {
        "id": "pHZ0RJ_Sl4eU"
      }
    },
    {
      "cell_type": "code",
      "source": [
        "def foo(x, y):\n",
        "  \"\"\"\n",
        "  x: vault deposit pool share\n",
        "  y: stake pool share\n",
        "  \"\"\"\n",
        "  data = [(YOP_staked + i*y, staking_duration, vault_deposit_value + i*x, total_YOP_staked_depositors+i*y, avg_duration_locked, TVL_vaults+ i*x ) for i in range(2000)]\n",
        "  return data"
      ],
      "metadata": {
        "id": "I8I2fCYvlPWa"
      },
      "execution_count": 74,
      "outputs": []
    },
    {
      "cell_type": "code",
      "source": [
        "d = foo(1000,100)\n",
        "plt.plot([boosting_multiplier(*x) for x in d])"
      ],
      "metadata": {
        "colab": {
          "base_uri": "https://localhost:8080/",
          "height": 283
        },
        "id": "et6TkWOgm_I-",
        "outputId": "02d5c82a-00fc-4f12-df6e-8b547cdb0ab5"
      },
      "execution_count": 114,
      "outputs": [
        {
          "output_type": "execute_result",
          "data": {
            "text/plain": [
              "[<matplotlib.lines.Line2D at 0x7f594cd6fc90>]"
            ]
          },
          "metadata": {},
          "execution_count": 114
        },
        {
          "output_type": "display_data",
          "data": {
            "image/png": "[encoded data removed]",
            "text/plain": [
              "<Figure size 432x288 with 1 Axes>"
            ]
          },
          "metadata": {
            "needs_background": "light"
          }
        }
      ]
    },
    {
      "cell_type": "code",
      "source": [
        "d = foo(100,10)\n",
        "plt.plot([boosting_multiplier(*x) for x in d])"
      ],
      "metadata": {
        "colab": {
          "base_uri": "https://localhost:8080/",
          "height": 283
        },
        "id": "SXaEFExIm93r",
        "outputId": "b7afbcdc-bd4c-4ec8-c9dc-3bbf05799cd8"
      },
      "execution_count": 85,
      "outputs": [
        {
          "output_type": "execute_result",
          "data": {
            "text/plain": [
              "[<matplotlib.lines.Line2D at 0x7f594d4baf10>]"
            ]
          },
          "metadata": {},
          "execution_count": 85
        },
        {
          "output_type": "display_data",
          "data": {
            "image/png": "[encoded data removed]",
            "text/plain": [
              "<Figure size 432x288 with 1 Axes>"
            ]
          },
          "metadata": {
            "needs_background": "light"
          }
        }
      ]
    },
    {
      "cell_type": "code",
      "source": [
        ""
      ],
      "metadata": {
        "id": "LXNGY0YbsQ4Y"
      },
      "execution_count": null,
      "outputs": []
    },
    {
      "cell_type": "code",
      "source": [
        "d = foo(100,10)\n",
        "plt.plot([boosting_multiplier(*x) for x in d])"
      ],
      "metadata": {
        "colab": {
          "base_uri": "https://localhost:8080/",
          "height": 283
        },
        "id": "W8emw3R5sQ0h",
        "outputId": "adbba486-efef-480f-ef21-a38c07275a3f"
      },
      "execution_count": 112,
      "outputs": [
        {
          "output_type": "execute_result",
          "data": {
            "text/plain": [
              "[<matplotlib.lines.Line2D at 0x7f594ce222d0>]"
            ]
          },
          "metadata": {},
          "execution_count": 112
        },
        {
          "output_type": "display_data",
          "data": {
            "image/png": "[encoded data removed]",
            "text/plain": [
              "<Figure size 432x288 with 1 Axes>"
            ]
          },
          "metadata": {
            "needs_background": "light"
          }
        }
      ]
    },
    {
      "cell_type": "code",
      "source": [
        ""
      ],
      "metadata": {
        "id": "7yjzAgNdsQsb"
      },
      "execution_count": null,
      "outputs": []
    },
    {
      "cell_type": "code",
      "source": [
        ""
      ],
      "metadata": {
        "id": "MuLXEzjEsQeC"
      },
      "execution_count": null,
      "outputs": []
    },
    {
      "cell_type": "code",
      "source": [
        ""
      ],
      "metadata": {
        "id": "wtSK0RW4sQa6"
      },
      "execution_count": null,
      "outputs": []
    },
    {
      "cell_type": "code",
      "source": [
        ""
      ],
      "metadata": {
        "id": "YL-6-viIpB7a"
      },
      "execution_count": null,
      "outputs": []
    }
  ]
}